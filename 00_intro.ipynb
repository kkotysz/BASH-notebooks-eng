{
 "cells": [
  {
   "cell_type": "markdown",
   "metadata": {},
   "source": [
    "# 0. BASH - Introduction"
   ]
  },
  {
   "cell_type": "markdown",
   "metadata": {},
   "source": [
    "### `bash` is a shell of an operating system based on [UNIX](https://upload.wikimedia.org/wikipedia/commons/7/77/Unix_history-simple.svg) - [Linux](https://upload.wikimedia.org/wikipedia/commons/8/8c/Linux_Distribution_Timeline_Dec._2020.svg). It serves as an intermediary between the user and the system itself. It enables efficient work with files and other applications. There are many system shells available, such as `zsh - Z shell`, `tcsh - The TENEX C shell`, `sh - The Bourne shell`, and its enhanced version `bash - The Bourne Again shell`. For Windows, there are also shells available: `cmd.exe` and `Windows PowerShell`."
   ]
  },
  {
   "cell_type": "markdown",
   "metadata": {},
   "source": [
    "## 0.1 [Desktop environments](https://en.wikipedia.org/wiki/Comparison_of_X_Window_System_desktop_environments)"
   ]
  },
  {
   "cell_type": "markdown",
   "metadata": {},
   "source": [
    "Different distributions of Linux are installed with built-in graphical environments that differ in appearance and functionality. For example, the Ubuntu system comes with the `GNOME` environment installed by default."
   ]
  },
  {
   "cell_type": "markdown",
   "metadata": {},
   "source": [
    "![SegmentLocal](images/gnome-ubuntu.png \"segment\")\n",
    "By OS: Canonical Foundation, Ubuntu communityScreenshot: PantheraLeo1359531 - Screenshot via Oracle VM VirtualBox 6.1, CC BY 3.0, https://commons.wikimedia.org/w/index.php?curid=98315961"
   ]
  },
  {
   "cell_type": "markdown",
   "metadata": {},
   "source": [
    "## 0.2 Command line"
   ]
  },
  {
   "cell_type": "markdown",
   "metadata": {},
   "source": [
    "To access the `bash` shell (which is typically installed by default in most Linux distributions), you need to launch the Terminal. The following screen will be displayed (although it may vary slightly for each user):"
   ]
  },
  {
   "cell_type": "markdown",
   "metadata": {},
   "source": [
    "![SegmentLocal](images/bash.png \"segment\")"
   ]
  },
  {
   "cell_type": "markdown",
   "metadata": {},
   "source": [
    "After launching the Terminal, you will see a prompt (which may vary depending on the shell), consisting of several elements:\n",
    "\n",
    "- <b>Username</b>: `krzkot`\n",
    "- <b>Hostname</b>: `debian`\n",
    "- <b>Current directory</b>: `~` - represents your home directory\n",
    "- <b>Prompt symbol</b>: `$`\n",
    "\n",
    "Once you see the prompt, you can start entering commands. You can use the `ls` command followed by the path to your home directory (unless you are already in it) to see what is inside your home directory."
   ]
  },
  {
   "cell_type": "code",
   "execution_count": null,
   "metadata": {},
   "outputs": [],
   "source": [
    "ls ~"
   ]
  },
  {
   "cell_type": "markdown",
   "metadata": {},
   "source": [
    "## 0.3 File and Directory Structure"
   ]
  },
  {
   "cell_type": "markdown",
   "metadata": {},
   "source": [
    "Previously, the tilde (~) was used to display the contents of the home directory. It is a universal symbol used to represent the location of this path. You can view what is located under this symbol."
   ]
  },
  {
   "cell_type": "code",
   "execution_count": null,
   "metadata": {},
   "outputs": [],
   "source": [
    "echo ~"
   ]
  },
  {
   "cell_type": "markdown",
   "metadata": {},
   "source": [
    "It displays the absolute path of our home directory. It is equivalent to entering the commands `ls ~` and `ls /home/<your_username>`."
   ]
  },
  {
   "cell_type": "code",
   "execution_count": null,
   "metadata": {},
   "outputs": [],
   "source": [
    "ls /home/krzkot # You need to change 'krzkot' to Your own username"
   ]
  },
  {
   "cell_type": "markdown",
   "metadata": {},
   "source": [
    "The above command begins with the `/` symbol, which represents the root directory of the system on our computer. You can view what is located in it."
   ]
  },
  {
   "cell_type": "code",
   "execution_count": null,
   "metadata": {},
   "outputs": [],
   "source": [
    "ls /"
   ]
  },
  {
   "cell_type": "markdown",
   "metadata": {},
   "source": [
    "It contains various directories, the most important ones being:\n",
    "- <b>bin</b>: executable files (programs) that are available to all users.\n",
    "- <b>etc</b>: configuration files.\n",
    "- <b>home</b>: home directories of users.\n",
    "- <b>media</b>: access paths to removable devices (mount points).\n",
    "- <b>mnt</b>: temporary mount point.\n",
    "- <b>usr</b>: additional executable files (programs) that are available to all users.\n",
    "- <b>var</b>: modified files such as logs, databases."
   ]
  },
  {
   "cell_type": "markdown",
   "metadata": {},
   "source": [
    "## 0.4 .bashrc"
   ]
  },
  {
   "cell_type": "markdown",
   "metadata": {},
   "source": [
    "Some files may be hidden, and the `-a` option (<b>a</b>ll) is used to display them. The names of these files always start with a `.`"
   ]
  },
  {
   "cell_type": "code",
   "execution_count": null,
   "metadata": {},
   "outputs": [],
   "source": [
    "ls -a ~/"
   ]
  },
  {
   "cell_type": "markdown",
   "metadata": {},
   "source": [
    "Among various files, you can notice a group that starts with `.bash`. You can display only those files by using the `-l` option (<b>list</b>) in addition. In this case, we will use the `*` wildcard character to match any sequence of characters following the pattern we provide."
   ]
  },
  {
   "cell_type": "code",
   "execution_count": null,
   "metadata": {},
   "outputs": [],
   "source": [
    "ls -la ~/.bash*"
   ]
  },
  {
   "cell_type": "markdown",
   "metadata": {},
   "source": [
    "These are files that can be used to configure our `bash` shell.\n",
    "\n",
    "- `~/.bash_aliases` - This file is used to store command aliases (it is not required and may not exist).\n",
    "- `~/.bash_history` - It contains the history of typed commands.\n",
    "- `~/.bash_logout` - Commands placed in this file will be executed upon exiting the shell.\n",
    "- `~/.bashrc` - The main configuration file.\n",
    "\n",
    "In general, there may be more such files, for example:\n",
    "\n",
    "- `~/.bash_profile` - Executes our commands after opening the shell.\n",
    "- `~/.bash_login` - Also executes our commands after opening the shell, but with lower priority."
   ]
  },
  {
   "cell_type": "markdown",
   "metadata": {},
   "source": [
    "## 0.5 aliases"
   ]
  },
  {
   "cell_type": "markdown",
   "metadata": {},
   "source": [
    "Sometimes, typing long commands or commands with multiple options can be cumbersome. To work more efficiently, you can set aliases for them, which are shorter and faster to type. For example, for the command `ls -lrth`, which lists the contents of a directory (<b>l</b>ist), sorts by time (<b>t</b>ime) in reverse order (<b>r</b>eversed), and displays file sizes in a human-readable format (<b>h</b>uman readable), you can use an alias (in this example, `lo`)."
   ]
  },
  {
   "cell_type": "code",
   "execution_count": null,
   "metadata": {},
   "outputs": [],
   "source": [
    "lo    # alias not yet set, so gives error"
   ]
  },
  {
   "cell_type": "code",
   "execution_count": null,
   "metadata": {},
   "outputs": [],
   "source": [
    "alias 'lo=ls -lrth'"
   ]
  },
  {
   "cell_type": "code",
   "execution_count": null,
   "metadata": {},
   "outputs": [],
   "source": [
    "lo ~/"
   ]
  },
  {
   "cell_type": "markdown",
   "metadata": {},
   "source": [
    "However, such alias settings are not permanent. To make an alias always visible, you need to add it to the `.bashrc` or `.bash_aliases` file."
   ]
  }
 ],
 "metadata": {
  "kernelspec": {
   "display_name": "Bash",
   "language": "bash",
   "name": "bash"
  },
  "language_info": {
   "codemirror_mode": "shell",
   "file_extension": ".sh",
   "mimetype": "text/x-sh",
   "name": "bash"
  }
 },
 "nbformat": 4,
 "nbformat_minor": 4
}
