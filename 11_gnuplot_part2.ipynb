{
 "cells": [
  {
   "cell_type": "markdown",
   "metadata": {},
   "source": [
    "# 11. Gnuplot - a tool for data visualization: Part 2\n",
    "\n",
    "In the second part of this Gnuplot tutorial, we will explore more advanced features and techniques for data visualization. We will cover the following topics:\n",
    "\n",
    "1. Function Fitting: Gnuplot provides functionality for fitting functions to data points. We will learn how to fit various types of curves, such as polynomials, exponentials, and custom-defined functions, to our data.\n",
    "\n",
    "2. Histograms: Gnuplot allows us to create histograms, which are useful for visualizing the distribution of data. We will learn how to plot histograms and customize their appearance, including the number of bins and bar styles.\n",
    "\n",
    "3. Multiplots: Sometimes we need to display multiple plots together to compare different datasets or visualize different aspects of the same data. We will explore how to create multiplots, which enable us to display multiple graphs in a single figure.\n",
    "\n",
    "4. Scripting: Gnuplot can be used as a scripting language to automate repetitive tasks and create complex plots. We will learn how to write scripts that contain a series of commands to generate plots automatically, making our workflow more efficient.\n",
    "\n",
    "By the end of this tutorial, you will have a solid understanding of these advanced features in Gnuplot and be able to create sophisticated and customized visualizations for your data. Let's dive in and explore the powerful capabilities of Gnuplot!"
   ]
  },
  {
   "cell_type": "code",
   "execution_count": null,
   "metadata": {},
   "outputs": [],
   "source": [
    "%load_ext gnuplot_kernel\n",
    "%gnuplot inline pngcairo size 1024,600"
   ]
  },
  {
   "cell_type": "markdown",
   "metadata": {},
   "source": [
    "## 11.1 Function fitting"
   ]
  },
  {
   "cell_type": "markdown",
   "metadata": {},
   "source": [
    "`Gnuplot` offers the ability to fit functions to our data. In the following example, a 3rd degree polynomial will be fitted to artificially generated data from the file `fake_data.dat`."
   ]
  },
  {
   "cell_type": "code",
   "execution_count": null,
   "metadata": {},
   "outputs": [],
   "source": [
    "%%gnuplot\n",
    "plot 'files/fake_data.dat' w p pt 7 lc 7 ps 2"
   ]
  },
  {
   "cell_type": "markdown",
   "metadata": {},
   "source": [
    "Fitting is performed using the `fit` command. We specify the function we want to fit (the model) and which parameters from the model should be fitted. First, we define the function, a third-degree polynomial with the general formula: $Ax^3+Bx^2+Cx+D$. Then, we define the fitting of this function and specify the parameters using `via`."
   ]
  },
  {
   "cell_type": "code",
   "execution_count": null,
   "metadata": {},
   "outputs": [],
   "source": [
    "%%gnuplot\n",
    "f(x) = a*x**3 + b*x**2 + c*x +d"
   ]
  },
  {
   "cell_type": "code",
   "execution_count": null,
   "metadata": {},
   "outputs": [],
   "source": [
    "%%gnuplot\n",
    "fit f(x) 'files/fake_data.dat' via a,b,c,d    # fit f(x) to data from file"
   ]
  },
  {
   "cell_type": "markdown",
   "metadata": {},
   "source": [
    "We receive a full description of what has been done. In this case, 4 iterations were performed to obtain the solution. Then, the obtained parameters (a, b, c, d) are displayed along with their errors:\n",
    "\n",
    "$a = -0.0138867\\pm0.01161$<br>$b = -0.231205\\pm0.1762$<br>$c = 0.789545\\pm0.7563$<br>$d = 1.05233\\pm0.8707$.\n",
    "\n",
    "We can plot the fitted function. Additionally, the true function, based on which the artificial data was generated, is marked by a black dashed line. It is worth mentioning that we can specify the name to be displayed in the legend using `title` in the `plot` command. The deviation of the fitting from the true function is not significant."
   ]
  },
  {
   "cell_type": "code",
   "execution_count": null,
   "metadata": {},
   "outputs": [],
   "source": [
    "%%gnuplot\n",
    "p 'files/fake_data.dat' w p pt 7 lc 7 ps 2 title \"DATA\", a*x**3+b*x**2+c*x+d w l lw 4 lc 2 title 'FITTED FUNCTION', 'files/gen_data.dat' w l lc 8 lw 6 dt 2 title \"REAL DATA\""
   ]
  },
  {
   "cell_type": "markdown",
   "metadata": {},
   "source": [
    "## 11.2 Histogram"
   ]
  },
  {
   "cell_type": "markdown",
   "metadata": {},
   "source": [
    "Histogram in `gnuplot` is also created using the `plot` command (assuming you have the appropriate data for the histogram) and the `w(ith) boxes` modifier - what is inside the parentheses is optional. The data in the file `histogram.dat` is as follows (first column: bin center, second column: frequency):\n",
    "\n",
    "```\n",
    "-4.01733 3\n",
    "-3.63559 0\n",
    "-3.25386 4\n",
    "-2.87212 3\n",
    "-2.49038 14\n",
    "-2.10864 36\n",
    "-1.72690 54\n",
    "-1.34516 104\n",
    "-0.96342 206\n",
    "-0.58168 276\n",
    "-0.19994 331\n",
    "0.18179 263\n",
    "0.56353 252\n",
    "0.94527 179\n",
    "1.32701 133\n",
    "1.70875 91\n",
    "2.09049 36\n",
    "2.47223 10\n",
    "2.85397 2\n",
    "3.23571 0\n",
    "3.61744 2\n",
    "```"
   ]
  },
  {
   "cell_type": "code",
   "execution_count": null,
   "metadata": {},
   "outputs": [],
   "source": [
    "%%gnuplot\n",
    "reset\n",
    "set xlabel \"Magnitude [mag]\"                                                           \n",
    "set ylabel \"Number\"                                                                    \n",
    "set style fill solid 0.85 border lt -1                                         # fill the bars of histogram\n",
    "plot 'files/histogram.dat' using 1:2 w boxes lc rgb \"green\" title \"HISTOGRAM\"  # draw histogram"
   ]
  },
  {
   "cell_type": "markdown",
   "metadata": {},
   "source": [
    "## 11.3 Multiple Plots on One Figure - `multiplot`"
   ]
  },
  {
   "cell_type": "markdown",
   "metadata": {},
   "source": [
    "Let's try to plot both of these graphs on a single figure. For this purpose, we can use the `set multiplot` command. We need to specify the number of rows and columns on the figure using the `layout` modifier."
   ]
  },
  {
   "cell_type": "code",
   "execution_count": null,
   "metadata": {},
   "outputs": [],
   "source": [
    "%gnuplot inline pngcairo size 1024,1024"
   ]
  },
  {
   "cell_type": "code",
   "execution_count": null,
   "metadata": {},
   "outputs": [],
   "source": [
    "%%gnuplot\n",
    "reset\n",
    "set multiplot layout 3, 1\n",
    "set tmargin 3\n",
    "set title \"sin(x)/x\"\n",
    "plot sin(x)/x w l lw 4 lc rgb 'blue'\n",
    "\n",
    "set title \"Third Degree Polynomial\"\n",
    "set xlabel \"FAKE X DATA\"\n",
    "set ylabel \"FAKE Y DATA\" \n",
    "plot 'files/fake_data.dat' w p pt 7 lc 7 ps 0.5 title \"DATA\", 'files/gen_data.dat' w l lc 8 lw 4 dt 2 title \"REAL DATA\"\n",
    "\n",
    "set xlabel \"Magnitude [mag]\"\n",
    "set ylabel \"Number\"\n",
    "set style fill solid 0.85 border lt -1\n",
    "plot 'files/histogram.dat' using 1:2 w boxes lc rgb \"green\" title \"HISTOGRAM\"\n",
    "unset multiplot"
   ]
  },
  {
   "cell_type": "markdown",
   "metadata": {},
   "source": [
    "The code above sets up a `multiplot` with a layout of 3 rows and 1 column. Each plot is defined within a specific layout position using the `set title` command to set the title for each plot.\n",
    "\n",
    "The first plot shows the function `sin(x)/x` with a solid blue line. The second plot displays two sets of data points: one from the file `fake_data.dat` represented by points with color 7 (cyan) and size 0.5, and another from the file `gen_data.dat` represented by a solid line with color 8 (dark yellow) and line width 4, using dashed line type 2. The third plot is a histogram created from the data in the file `histogram.dat`, with green-colored boxes.\n",
    "\n",
    "After plotting all the graphs, `unset multiplot` is used to disable the `multiplot` feature."
   ]
  },
  {
   "cell_type": "markdown",
   "metadata": {},
   "source": [
    "## 11.4 Script"
   ]
  },
  {
   "cell_type": "markdown",
   "metadata": {},
   "source": [
    "All commands can be written to a file and executed under gnuplot to automate tasks such as generating plots. Such a gnuplot script can be run in a loop in Bash to automatically generate plots. Let's write all the previous commands into a single file called `gpl_script.gpl`:\n",
    "\n",
    "```gnuplot\n",
    "set term pngcairo size 1024,1024 font \"Ubuntu Condensed, 16\"                           # set the output as a PNG file, specify the size and font for the plot\n",
    "set output \"multiplot.png\"                                                             # set the output file name\n",
    "\n",
    "\n",
    "# FUNCTION DEFINITION AND DATA FITTING\n",
    "f(x) = a*x**3 + b*x**2 + c*x +d\n",
    "fit f(x) 'files/fake_data.dat' via a,b,c,d    # fit f(x) to the data from the file\n",
    "\n",
    "set multiplot layout 3, 1\n",
    "set tmargin 3\n",
    "set title \"sin(x)/x\"                                                                   # title of the first plot\n",
    "plot sin(x)/x w l lw 4 lc rgb 'blue'\n",
    "\n",
    "set title \"Third Degree Polynomial\"                                                    # title of the second plot\n",
    "set xlabel \"FAKE X DATA\"                                                               # set the x-axis label\n",
    "set ylabel \"FAKE Y DATA\" \n",
    "p 'files/fake_data.dat' w p pt 7 lc 7 ps 0.7 title \"DATA\", a*x**3+b*x**2+c*x+d w l lw 4 lc 2 title 'FITTED FUNCTION', 'files/gen_data.dat' w l lc 8 lw 6 dt 2 title \"REAL DATA\"\n",
    "\n",
    "\n",
    "set title \"HISTOGRAM\"                                                                  # title of the third plot\n",
    "set xlabel \"Magnitude [mag]\"                                                           # set the x-axis label\n",
    "set ylabel \"Number\"                                                                    # set the y-axis label\n",
    "set style fill solid 0.85 border lt -1                                                 # fill the histogram bars\n",
    "plot 'files/histogram.dat' using 1:2 w boxes lc rgb \"green\" title \"HISTOGRAM\"          # draw the histogram\n",
    "unset multiplot\n",
    "```\n",
    "\n"
   ]
  },
  {
   "cell_type": "markdown",
   "metadata": {},
   "source": [
    "You can execute the `gpl_script.gpl` file using `gnuplot gpl_script.gpl` to generate the desired plot."
   ]
  }
 ],
 "metadata": {
  "kernelspec": {
   "display_name": "Python 3 (ipykernel)",
   "language": "python",
   "name": "python3"
  },
  "language_info": {
   "codemirror_mode": {
    "name": "ipython",
    "version": 3
   },
   "file_extension": ".py",
   "mimetype": "text/x-python",
   "name": "python",
   "nbconvert_exporter": "python",
   "pygments_lexer": "ipython3",
   "version": "3.8.16"
  }
 },
 "nbformat": 4,
 "nbformat_minor": 4
}
