{
 "cells": [
  {
   "cell_type": "markdown",
   "metadata": {},
   "source": [
    "# 8. `for` loop and conditions"
   ]
  },
  {
   "cell_type": "markdown",
   "metadata": {},
   "source": [
    "Loops and conditional statements are essential elements in any programming language. `bash` also includes these constructs, which allow you to enhance your script's functionality. Conditional statements are used to check the logical value of expressions and execute specific commands based on the result. Loops are used to repeat the same set of actions multiple times."
   ]
  },
  {
   "cell_type": "markdown",
   "metadata": {},
   "source": [
    "## 8.1 Conditional Statement - `if-then-else`"
   ]
  },
  {
   "cell_type": "markdown",
   "metadata": {},
   "source": [
    "This statement is used to create conditions that are evaluated as either **Tru**e or **False**. If the condition is true, you can specify which commands should be executed. You can also define what the script should do if the condition is not met. The general syntax of this statement is as follows:"
   ]
  },
  {
   "cell_type": "markdown",
   "metadata": {},
   "source": [
    "`if-then` syntax:\n",
    "```bash\n",
    "if condition; then\n",
    "    # Our commands\n",
    "fi\n",
    "```\n",
    "\n",
    "`if-then-else` syntax (i.e., what the script should do if the condition is not met):\n",
    "```bash\n",
    "if condition; then\n",
    "    # Our commands\n",
    "else\n",
    "    # Other commands\n",
    "fi\n",
    "```\n",
    "\n",
    "In the `if-then` structure, if the condition is true, the code block under the `then` statement will be executed. There is no alternative code block for when the condition is false.\n",
    "\n",
    "In the `if-then-else` structure, if the condition is true, the code block under the `then` statement will be executed. If the condition is false, the code block under the `else` statement will be executed."
   ]
  },
  {
   "cell_type": "markdown",
   "metadata": {},
   "source": [
    ">__[NOTE] If we want to specify multiple conditions within a single `if` statement, we can add them using the `elif` command.__"
   ]
  },
  {
   "cell_type": "markdown",
   "metadata": {},
   "source": [
    "`elif` structure (we can add as many conditions as we want)\n",
    "```bash\n",
    "if condition; then\n",
    "    # Commands\n",
    "elif warunek; then\n",
    "    # Other commands\n",
    "elif; then\n",
    "    # Yet another commands\n",
    "else\n",
    "    # Any other case\n",
    "fi\n",
    "```\n",
    "\n",
    "Example:"
   ]
  },
  {
   "cell_type": "markdown",
   "metadata": {},
   "source": [
    "After providing a number from the command line, the script will check whether the given number is greater/less/equal to 10. Please note that error handling, such as providing a letter or another character instead of a number, is not implemented in this example. Such comparisons work only for integers. For floating-point numbers, you can use the `bc` calculator.\n",
    "\n",
    "Contents of `ifnumber.bash`:\n",
    "```bash\n",
    "#!/bin/bash\n",
    "if (( $1 == 10 )); then\n",
    "    echo \"Congratulations, your number is exactly 10\"\n",
    "elif (( $1 > 10 )); then\n",
    "    echo \"Your number is greater than 10\"\n",
    "else\n",
    "    echo \"Your number is less than 10\"\n",
    "fi\n",
    "```"
   ]
  },
  {
   "cell_type": "code",
   "execution_count": null,
   "metadata": {},
   "outputs": [],
   "source": [
    "scripts/ifnumber.bash 15"
   ]
  },
  {
   "cell_type": "code",
   "execution_count": null,
   "metadata": {},
   "outputs": [],
   "source": [
    "scripts/ifnumber.bash 4"
   ]
  },
  {
   "cell_type": "code",
   "execution_count": null,
   "metadata": {},
   "outputs": [],
   "source": [
    "scripts/ifnumber.bash 10"
   ]
  },
  {
   "cell_type": "code",
   "execution_count": null,
   "metadata": {},
   "outputs": [],
   "source": [
    "scripts/ifnumber.bash t    # letter `t` was converted to number"
   ]
  },
  {
   "cell_type": "markdown",
   "metadata": {},
   "source": [
    "## 8.2 Conditional Statement - What Condition?"
   ]
  },
  {
   "cell_type": "markdown",
   "metadata": {},
   "source": [
    "When defining conditions in Bash, it's important to know that there are different ways to formulate them. They can be divided into 3 types depending on the construction, and each type also has its own subtypes:\n",
    "\n",
    "1. Using single square brackets `[ condition ]`:\n",
    "   - Working with files\n",
    "   - Working with strings\n",
    "   - Working with numbers\n",
    "\n",
    "2. Using double square brackets `[[ condition ]]`:\n",
    "   - Extends/changes the capabilities of conditions in single square brackets\n",
    "   - Working with files (e.g., the file `*.bash` will be recognized literally as `*.bash` and not all files with the extension `.bash`)\n",
    "   - Working with strings (e.g., allows the use of regular expressions)\n",
    "   - Working with numbers (e.g., allows the use of logical operators to combine conditions, such as `&&`)\n",
    "\n",
    "3. Using double parentheses `(( condition ))`\n",
    "\n",
    "There are many more variations, and I will only discuss a few examples here. For a comprehensive guide, you can refer to the following link:\n",
    "\n",
    "[Conditions in Bash Scripting](https://ryanstutorials.net/bash-scripting-tutorial/bash-if-statements.php)"
   ]
  },
  {
   "cell_type": "markdown",
   "metadata": {},
   "source": [
    "__1) Example with a condition on a string. I'm checking whether the provided email from the command line has the correct structure. The `=~` operator is used to compare it with a regular expression:__\n",
    "\n",
    "Contents of `ifemail.bash`:\n",
    "```bash\n",
    "#!/bin/bash\n",
    "pattern=\"^[A-Za-z0-9._%+-]+@[A-Za-z0-9.-]+\\.[A-Za-z]{2,4}$\"\n",
    "if [[ \"$1\" =~ $pattern ]]; then\n",
    "    echo The address \"$1\" is valid.\n",
    "fi\n",
    "```"
   ]
  },
  {
   "cell_type": "code",
   "execution_count": null,
   "metadata": {},
   "outputs": [],
   "source": [
    "scripts/ifemail.bash name.surnanme@server.com "
   ]
  },
  {
   "cell_type": "markdown",
   "metadata": {},
   "source": [
    "__2) Example with a condition on a file. I'm checking if the file `greet.bash` exists:__\n",
    "\n",
    "Contents of `ifexists.bash`:\n",
    "```bash\n",
    "#!/bin/bash\n",
    "if [[ -e scripts/greet.bash ]]; then\n",
    "    echo \"The file greet.bash exists.\"\n",
    "else\n",
    "    echo \"The file greet.bash does not exist.\"\n",
    "fi\n",
    "```"
   ]
  },
  {
   "cell_type": "code",
   "execution_count": null,
   "metadata": {},
   "outputs": [],
   "source": [
    "scripts/ifexists.bash"
   ]
  },
  {
   "cell_type": "markdown",
   "metadata": {},
   "source": [
    "__3) Example with a condition on numbers (square brackets). I'm checking the same as before (file `ifnumber.bash`):__\n",
    "\n",
    "Contents of `ifnumber2.bash`:\n",
    "```bash\n",
    "#!/bin/bash\n",
    "if [[ $1 -eq 10 ]]; then\n",
    "    echo \"Congratulations, your number is exactly 10.\"\n",
    "elif [[ $1 -gt 10 ]]; then\n",
    "    echo \"Your number is greater than 10.\"\n",
    "else\n",
    "    echo \"Your number is less than 10.\"\n",
    "fi\n",
    "```"
   ]
  },
  {
   "cell_type": "code",
   "execution_count": null,
   "metadata": {},
   "outputs": [],
   "source": [
    "scripts/ifnumber2.bash 10"
   ]
  },
  {
   "cell_type": "markdown",
   "metadata": {},
   "source": [
    "As you can see in the above example, there are two ways to compare numbers. All possible conditions are listed on the website mentioned earlier."
   ]
  },
  {
   "cell_type": "markdown",
   "metadata": {},
   "source": [
    ">### __[NOTE] The `awk` command also has conditional statements, which can be very useful.__\n",
    ">### Syntax:\n",
    ">```bash\n",
    ">awk '{ if ( condition ) { action } else { action } }'\n",
    ">```"
   ]
  },
  {
   "cell_type": "markdown",
   "metadata": {},
   "source": [
    "## 8.3 `for` loop"
   ]
  },
  {
   "cell_type": "markdown",
   "metadata": {},
   "source": [
    "The `for` loop allows for the repeated execution of a command (known as iteration) a specified number of times. Each time a new iteration of the loop is executed, the same action can be performed with a different variable. The syntax of the `for` loop is as follows:\n",
    "\n",
    "```bash\n",
    "for VARIABLE in VALUES_TO_BE_ASSIGNED_TO_VARIABLE\n",
    "do\n",
    "    COMMANDS\n",
    "done\n",
    "```\n",
    "\n",
    "The values can be defined by numbers, files, or the result of a command. Below are three examples."
   ]
  },
  {
   "cell_type": "markdown",
   "metadata": {},
   "source": [
    "__1) Example of a `for` loop over a range of numbers:__\n",
    "\n",
    "Contents of `for_num.bash`:\n",
    "```bash\n",
    "#!/bin/bash\n",
    "for my_variable in {1..10}\n",
    "do\n",
    "    echo $my_variable\n",
    "done\n",
    "```"
   ]
  },
  {
   "cell_type": "code",
   "execution_count": null,
   "metadata": {},
   "outputs": [],
   "source": [
    "scripts/for_num.bash    # The variable `my_variable` takes values from 1 to 10, and each time it is printed."
   ]
  },
  {
   "cell_type": "markdown",
   "metadata": {},
   "source": [
    "__2) Example of a `for` loop iterating over files:__"
   ]
  },
  {
   "cell_type": "code",
   "execution_count": null,
   "metadata": {},
   "outputs": [],
   "source": [
    "ls files/*TIC*fppt*"
   ]
  },
  {
   "cell_type": "markdown",
   "metadata": {},
   "source": [
    "Zawartość `for_file.bash`:\n",
    "```bash\n",
    "#!/bin/bash\n",
    "for my_variable in files/TIC*fppt*\n",
    "do\n",
    "    echo -n \"Ostania linia pliku $my_variable to: \"\n",
    "    tail -n 1 $my_variable\n",
    "done\n",
    "```"
   ]
  },
  {
   "cell_type": "code",
   "execution_count": null,
   "metadata": {},
   "outputs": [],
   "source": [
    "scripts/for_file.bash"
   ]
  },
  {
   "cell_type": "markdown",
   "metadata": {},
   "source": [
    "__3) Example of a `for` loop using the result of a command:__\n",
    "\n",
    "Content of `for_command.bash`:\n",
    "```bash\n",
    "#!/bin/bash\n",
    "for file in $(ls files/*.dat)\n",
    "do\n",
    "    echo \"$file: Number of lines in the file is $(cat $file | wc -l)\"\n",
    "done\n",
    "```"
   ]
  },
  {
   "cell_type": "code",
   "execution_count": null,
   "metadata": {},
   "outputs": [],
   "source": [
    "scripts/for_command.bash"
   ]
  },
  {
   "cell_type": "markdown",
   "metadata": {},
   "source": [
    "## 8.4 Loop Interruption: `break` and Loop Continuation: `continue`"
   ]
  },
  {
   "cell_type": "markdown",
   "metadata": {},
   "source": [
    "In bash, you can use the `break` statement to exit a loop prematurely. When encountered, the `break` statement immediately terminates the loop and resumes execution after the loop body. This can be useful when you want to stop the loop based on a certain condition."
   ]
  },
  {
   "cell_type": "markdown",
   "metadata": {},
   "source": [
    "Content of `for_command2.bash`:\n",
    "\n",
    "Here, the loop will execute until the condition is met (number of lines is less than 9000) and it will be broken.\n",
    "\n",
    "```bash\n",
    "#!/bin/bash\n",
    "for file in $(ls files/*.dat)\n",
    "do\n",
    "    nlines=$(cat $file | wc -l)\n",
    "    if [[ $nlines -lt 9000 ]]; then\n",
    "        echo \"$file: break executed\"\n",
    "        break\n",
    "    fi\n",
    "    echo \"$file: Number of lines in the file is $nlines\"\n",
    "done\n",
    "```"
   ]
  },
  {
   "cell_type": "code",
   "execution_count": null,
   "metadata": {},
   "outputs": [],
   "source": [
    "scripts/for_command2.bash"
   ]
  },
  {
   "cell_type": "markdown",
   "metadata": {},
   "source": [
    "On the other hand, if you want to skip the current iteration of a loop and continue to the next iteration, you can use the `continue` statement. When encountered, the `continue` statement skips the remaining commands in the current iteration and moves on to the next iteration."
   ]
  },
  {
   "cell_type": "markdown",
   "metadata": {},
   "source": [
    "Contents of `for_command3.bash`:\n",
    "\n",
    "Here, the loop will execute for all files.\n",
    "\n",
    "```bash\n",
    "#!/bin/bash\n",
    "for file in $(ls files/*.dat)\n",
    "do\n",
    "    nlines=$(cat $file | wc -l)\n",
    "    if [[ $nlines -lt 9000 ]]; then\n",
    "        echo \"$file: continue executed\"\n",
    "        continue\n",
    "    fi\n",
    "    echo \"$file: Number of lines in the file is $nlines\"\n",
    "done\n",
    "```"
   ]
  },
  {
   "cell_type": "code",
   "execution_count": null,
   "metadata": {},
   "outputs": [],
   "source": [
    "scripts/for_command3.bash"
   ]
  }
 ],
 "metadata": {
  "kernelspec": {
   "display_name": "Bash",
   "language": "bash",
   "name": "bash"
  },
  "language_info": {
   "codemirror_mode": "shell",
   "file_extension": ".sh",
   "mimetype": "text/x-sh",
   "name": "bash"
  }
 },
 "nbformat": 4,
 "nbformat_minor": 4
}
