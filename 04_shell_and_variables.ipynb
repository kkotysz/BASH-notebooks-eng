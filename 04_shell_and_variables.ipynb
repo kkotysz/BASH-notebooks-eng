{
 "cells": [
  {
   "cell_type": "markdown",
   "metadata": {},
   "source": [
    "# 4. Shell and Variables: Environment Variables, Local Variables, Global Variables, Special Variables, Arrays, Reserved Words"
   ]
  },
  {
   "cell_type": "markdown",
   "metadata": {},
   "source": [
    "><span style='color:green'>**[TIP]** It is possible to execute two commands one after another on a single line. To do this, separate them with a semicolon `;`.</span>"
   ]
  },
  {
   "cell_type": "code",
   "execution_count": 1,
   "metadata": {},
   "outputs": [
    {
     "name": "stdout",
     "output_type": "stream",
     "text": [
      "       1       2      14 file1.dat\n"
     ]
    }
   ],
   "source": [
    "echo \"first command\" > file1.dat; wc file1.dat"
   ]
  },
  {
   "cell_type": "markdown",
   "metadata": {},
   "source": [
    "In this section, we will describe various types of variables that exist in the `bash` shell. They are incredibly helpful in writing scripts and performing advanced operations. It is important to familiarize yourself with the terminology describing different variables and understand the concept of invoking a subshell to fully grasp the material presented below. While working in the `bash` shell, there is no obstacle to invoking another available shell. At that moment, a subordinate shell, called a __subshell__, will be created under our main shell. To check the available shells in our system, we can list the contents of the `shells` file located in the `/etc` directory."
   ]
  },
  {
   "cell_type": "code",
   "execution_count": 2,
   "metadata": {},
   "outputs": [
    {
     "name": "stdout",
     "output_type": "stream",
     "text": [
      "# List of acceptable shells for chpass(1).\n",
      "# Ftpd will not allow users to connect who are not using\n",
      "# one of these shells.\n",
      "\n",
      "## /opt/local/bin/bash\n",
      "/usr/local/bin/bash\n",
      "/bin/bash\n",
      "/bin/csh\n",
      "/bin/dash\n",
      "/bin/ksh\n",
      "/bin/sh\n",
      "/bin/tcsh\n",
      "/bin/zsh\n"
     ]
    }
   ],
   "source": [
    "cat /etc/shells"
   ]
  },
  {
   "cell_type": "markdown",
   "metadata": {},
   "source": [
    "## 4.1 Environment/Program/Local/Global Variables"
   ]
  },
  {
   "cell_type": "markdown",
   "metadata": {},
   "source": [
    "In the previous section, we presented a very simple script written in the `bash` shell. We also introduced the concept of variables - called **program variables**, which are declared by the user. In the script, once a variable is created, you can refer to it using the `$` symbol. In the bash environment, there is also the concept of **environment variables**, which modify and define our own environment. Examples of such variables include:\n",
    "\n",
    "- `$HOME` -> displays the path to your home directory.\n",
    "- `$USER` -> displays the username.\n",
    "- `$SHELL` -> displays the currently used shell in the terminal.\n",
    "- `$PWD` -> displays the path to the current directory.\n",
    "\n",
    "Here's an example of displaying an environment variable:"
   ]
  },
  {
   "cell_type": "code",
   "execution_count": 7,
   "metadata": {},
   "outputs": [
    {
     "name": "stdout",
     "output_type": "stream",
     "text": [
      "My username is: 'krzkot' and I'm using shell located at: /usr/local/bin/bash/\n"
     ]
    }
   ],
   "source": [
    "echo \"My username is: '\"$USER\"' and I'm using shell located at: \"$SHELL"
   ]
  },
  {
   "cell_type": "markdown",
   "metadata": {},
   "source": [
    "Variables can be **local** or **global**. Local variables are only visible in the shell where they were created, while global variables are visible in every subshell. To make our variable (whether it's a newly created program variable or a modified environment variable) a global variable, we need to assign it the appropriate attribute. This can be done using the `export` command. The `printenv` command is used to display all available environment variables.\n",
    "\n",
    "Here's an example of exporting a variable:"
   ]
  },
  {
   "cell_type": "code",
   "execution_count": 10,
   "metadata": {},
   "outputs": [
    {
     "name": "stdout",
     "output_type": "stream",
     "text": [
      "local_var\n"
     ]
    }
   ],
   "source": [
    "myvar=\"local_var\"; echo $myvar"
   ]
  },
  {
   "cell_type": "markdown",
   "metadata": {},
   "source": [
    "At the moment, the variable `$myvar` is local. I can invoke another subshell (`bash`) in my terminal and check if it is visible there."
   ]
  },
  {
   "cell_type": "markdown",
   "metadata": {},
   "source": [
    "```bash\n",
    "krzkot@krzkot ~ bash                     # subshell bash\n",
    "krzkot@krzkot ~ echo $myvar              # subshell \"cannot see\" this variable\n",
    "\n",
    "krzkot@krzkot ~ exit                     # exit from subshell\n",
    "krzkot@krzkot ~ echo $myvar              # main shell still \"sees\" the variable\n",
    "local_var\n",
    "krzkot@krzkot ~ export myvar             # let's export the variable\n",
    "krzkot@krzkot ~ echo $myvar              # main shell still \"sees\" the variable\n",
    "local_var\n",
    "krzkot@krzkot ~ bash                     # subshell bash\n",
    "krzkot@krzkot ~ echo $myvar.             # subshell also \"sees\" the variable which is now global\n",
    "local_var\n",
    "```"
   ]
  },
  {
   "cell_type": "markdown",
   "metadata": {},
   "source": [
    "## 4.2 Special variables"
   ]
  },
  {
   "cell_type": "markdown",
   "metadata": {},
   "source": [
    "Special variables are available to the user for reading only. It means that it's not possible to change their values. These are selected characters and numbers used for convenient script handling. The digits **0-9** handle the arguments passed to our script.\n",
    "- The variable `$0` displays the name of the current shell or the name of the executed script (we can say it's an argument with index 0)."
   ]
  },
  {
   "cell_type": "code",
   "execution_count": 11,
   "metadata": {},
   "outputs": [
    {
     "name": "stdout",
     "output_type": "stream",
     "text": [
      "/usr/local/bin/bash\n"
     ]
    }
   ],
   "source": [
    "echo $0"
   ]
  },
  {
   "cell_type": "markdown",
   "metadata": {},
   "source": [
    "The shell name has been displayed. Let's modify our script `tbase.bash` so that it displays the variable `$0` at the beginning."
   ]
  },
  {
   "cell_type": "markdown",
   "metadata": {},
   "source": [
    " ```bash\n",
    "#!/bin/bash\n",
    "\n",
    "echo $0   # Let's add the line to display the special variable\n",
    "\n",
    "start=$(head -n 2 files/TIC102090493-s2-121s_lc3_fppt.dat | tail -n 1)\n",
    "start=$(echo $start | cut -d \" \" -f 1)\n",
    "end=$(tail -n 1 files/TIC102090493-s2-121s_lc3_fppt.dat)\n",
    "end=$(echo $end | cut -d \" \" -f 1)\n",
    "tbase=$(echo $end-$start | bc) # timebase calculation\n",
    "echo $tbase\n",
    "```"
   ]
  },
  {
   "cell_type": "code",
   "execution_count": 14,
   "metadata": {},
   "outputs": [
    {
     "name": "stdout",
     "output_type": "stream",
     "text": [
      "scripts/tbase_mod.bash\n",
      "27.4044052\n"
     ]
    }
   ],
   "source": [
    "bash scripts/tbase_mod.bash"
   ]
  },
  {
   "cell_type": "markdown",
   "metadata": {},
   "source": [
    "As expected, the script name was displayed. Now let's see what the variables with other digits are used for."
   ]
  },
  {
   "cell_type": "markdown",
   "metadata": {},
   "source": [
    "- Variables in the range `$0-9` will contain the arguments passed to our script on the command line. Arguments are provided after the script name, separated by spaces."
   ]
  },
  {
   "cell_type": "markdown",
   "metadata": {},
   "source": [
    "We need to modify our script again (`tbase_arg.bash`) to use the variables `$0-9`. Let's start with a simple display using the `echo` command."
   ]
  },
  {
   "cell_type": "markdown",
   "metadata": {},
   "source": [
    " ```bash\n",
    "#!/bin/bash\n",
    "\n",
    "echo $1 $2   # display the special variables (first two arguments)\n",
    "\n",
    "start=$(head -n 2 TIC102090493-s2-121s_lc3_fppt.dat | tail -n 1)\n",
    "start=$(echo $start | cut -d \" \" -f 1)\n",
    "end=$(tail -n 1 TIC102090493-s2-121s_lc3_fppt.dat)\n",
    "end=$(echo $end | cut -d \" \" -f 1)\n",
    "tbase=$(echo $end-$start | bc)\n",
    "echo $tbase\n",
    "```"
   ]
  },
  {
   "cell_type": "code",
   "execution_count": 17,
   "metadata": {},
   "outputs": [
    {
     "name": "stdout",
     "output_type": "stream",
     "text": [
      "first second\n",
      "27.4044052\n"
     ]
    }
   ],
   "source": [
    "bash scripts/tbase_arg.bash first second third"
   ]
  },
  {
   "cell_type": "markdown",
   "metadata": {},
   "source": [
    "As you can see, the first two arguments, `pierwszy` and `drugi`, were displayed. The third argument, `trzeci`, although provided, was not displayed because there was no command in the script to print it to the screen. However, let's try to use argument capturing for something more useful. Notice that currently our script only performs the operation for a file named `TIC102090493-s2-121s_lc3_fppt.dat`. We can pass the file name as an argument to our script but it needs to be with a relative directory. The modification to our script will be as follows:"
   ]
  },
  {
   "cell_type": "markdown",
   "metadata": {},
   "source": [
    " ```bash\n",
    "#!/bin/bash\n",
    "start=$(head -n 2 $1 | tail -n 1) # # instead of filename, we provide $1\n",
    "start=$(echo $start | cut -d \" \" -f 1)\n",
    "end=$(tail -n 1 $1)\n",
    "end=$(echo $end | cut -d \" \" -f 1)\n",
    "tbase=$(echo $end-$start | bc)\n",
    "echo $tbase\n",
    "```"
   ]
  },
  {
   "cell_type": "code",
   "execution_count": 20,
   "metadata": {},
   "outputs": [
    {
     "name": "stdout",
     "output_type": "stream",
     "text": [
      "27.4044052\n"
     ]
    }
   ],
   "source": [
    "bash scripts/tbase_name.bash files/TIC102090493-s2-121s_lc3_fppt.dat"
   ]
  },
  {
   "cell_type": "code",
   "execution_count": 21,
   "metadata": {},
   "outputs": [
    {
     "name": "stdout",
     "output_type": "stream",
     "text": [
      "12.0541511\n"
     ]
    }
   ],
   "source": [
    "bash scripts/tbase_name.bash files/TIC12974182-s2-121s_lc3_fppt.dat"
   ]
  },
  {
   "cell_type": "markdown",
   "metadata": {},
   "source": [
    "Our script now executes if we provide the file name as the first argument for calculating the time base. If we don't provide an argument, our script will hang, and if we provide the name of a non-existent file, an error will be raised. In this example, a file named `somefile.dat`, which does not exist, is passed as an argument."
   ]
  },
  {
   "cell_type": "code",
   "execution_count": 24,
   "metadata": {},
   "outputs": [
    {
     "name": "stdout",
     "output_type": "stream",
     "text": [
      "head: jakisplik.dat: No such file or directory\n",
      "tail: jakisplik.dat: No such file or directory\n",
      "\n",
      "Parse error: bad expression\n",
      "    <stdin>:1\n",
      "\n",
      "\n"
     ]
    }
   ],
   "source": [
    "bash scripts/tbase_name.bash jakisplik.dat"
   ]
  },
  {
   "cell_type": "markdown",
   "metadata": {},
   "source": [
    " - `$@` taka zmienna wyświetli wszystkie podane argumenty\n",
    " - `$$` numer procesu aktualnej powłoki (wszystki procesy uruchomione w danym terminalu można podjerzeć za pomocą komendy `ps`)"
   ]
  },
  {
   "cell_type": "code",
   "execution_count": 25,
   "metadata": {},
   "outputs": [
    {
     "name": "stdout",
     "output_type": "stream",
     "text": [
      "  PID TTY           TIME CMD\n",
      "58824 ttys000    0:00.22 -bash -l\n",
      "59319 ttys000    0:33.21 /Users/krzkot/opt/anaconda3/bin/python /Users/krzkot/o\n",
      "62817 ttys001    0:00.08 /usr/local/bin/bash --rcfile /Users/krzkot/opt/anacond\n",
      "61529 ttys003    0:00.16 -zsh\n",
      "\n",
      "Current shell process number is: 62817\n"
     ]
    }
   ],
   "source": [
    "ps; echo; echo 'Current shell process number is: '$$"
   ]
  },
  {
   "cell_type": "markdown",
   "metadata": {},
   "source": [
    "><span style='color:green'>**[TIP]** The process number can be used to terminate a specific process (using the `kill` command).</span>"
   ]
  },
  {
   "cell_type": "markdown",
   "metadata": {},
   "source": [
    "## 4.3 Array Variables"
   ]
  },
  {
   "cell_type": "markdown",
   "metadata": {},
   "source": [
    "In `bash`, you can also create an array or, more precisely, a variable that will store an array. An array is a collection of values that you want to preserve, separated by spaces. Each element of the array will have an index assigned to it, starting from 0. The array has no size limit.\n",
    "\n",
    "To refer to an array, you use the index enclosed in curly braces `${}`. Here's an example of creating and accessing an array:\n",
    "\n",
    "```bash\n",
    "my_array=(\"value1\" \"value2\" \"value3\")\n",
    "echo ${my_array[0]}   # Output: value1\n",
    "echo ${my_array[1]}   # Output: value2\n",
    "echo ${my_array[2]}   # Output: value3\n",
    "```\n",
    "\n",
    "You can access individual elements of the array using their respective indexes. **Remember that the first value has an index of 0.**\n",
    "\n",
    "Arrays in `bash` provide a convenient way to store and manipulate collections of values. They are useful when you need to work with multiple related values within a single variable."
   ]
  },
  {
   "cell_type": "code",
   "execution_count": 27,
   "metadata": {},
   "outputs": [],
   "source": [
    "my_array=(one two three four five six)"
   ]
  },
  {
   "cell_type": "code",
   "execution_count": 29,
   "metadata": {},
   "outputs": [
    {
     "name": "stdout",
     "output_type": "stream",
     "text": [
      "one\n",
      "four\n"
     ]
    }
   ],
   "source": [
    "echo ${my_array[0]}; echo ${my_array[3]}"
   ]
  },
  {
   "cell_type": "markdown",
   "metadata": {},
   "source": [
    "If you don't specify an index, the first element (index 0) will be displayed. Additionally, when working with array variables, you can:\n",
    "\n",
    "- Retrieve all elements: Instead of specifying an index, you can use `*` or `@`.\n",
    "- Get the length of an array element: Precede the variable name with `#`.\n",
    "\n",
    "Here's an example that demonstrates these concepts:\n",
    "\n",
    "```bash\n",
    "my_array=(\"value1\" \"value2\" \"value3\")\n",
    "echo ${my_array[*]}   # Output: value1 value2 value3\n",
    "echo ${my_array[@]}   # Output: value1 value2 value3\n",
    "echo ${#my_array[1]}  # Output: 6 (length of \"value2\")\n",
    "echo ${#my_array[*]}  # Output: 3 (number of elements in the array)\n",
    "echo ${#my_array[@]}  # Output: 3 (number of elements in the array)\n",
    "```\n",
    "\n",
    "><span style='color:green'>**[TIP] Using `*` or `@` as the index allows you to retrieve all elements of the array. Prepending `#` to the variable name gives you the length of a specific element or the number of elements in the entire array.**</span>\n",
    "\n",
    "This can be useful when you need to perform operations or calculations based on the contents of an array."
   ]
  },
  {
   "cell_type": "code",
   "execution_count": 30,
   "metadata": {},
   "outputs": [
    {
     "name": "stdout",
     "output_type": "stream",
     "text": [
      "All array elements: one two three four five six\n"
     ]
    }
   ],
   "source": [
    "echo \"All array elements: \"${my_array[*]}"
   ]
  },
  {
   "cell_type": "code",
   "execution_count": 34,
   "metadata": {},
   "outputs": [
    {
     "name": "stdout",
     "output_type": "stream",
     "text": [
      "Number of characters in second element: 3\n"
     ]
    }
   ],
   "source": [
    "echo \"Number of characters in second element: ${#my_array[1]}\""
   ]
  },
  {
   "cell_type": "code",
   "execution_count": 35,
   "metadata": {},
   "outputs": [
    {
     "name": "stdout",
     "output_type": "stream",
     "text": [
      "Number of elements in array: 6\n"
     ]
    }
   ],
   "source": [
    "echo \"Number of elements in array:\" ${#my_array[*]}"
   ]
  },
  {
   "cell_type": "markdown",
   "metadata": {},
   "source": [
    "You can also add an element to an array with any index (you don't have to add them sequentially). In this example, we will add an element with index 10. Elements with indices 6-9 will not exist."
   ]
  },
  {
   "cell_type": "code",
   "execution_count": 43,
   "metadata": {},
   "outputs": [],
   "source": [
    "my_array[10]=\"eleven\""
   ]
  },
  {
   "cell_type": "code",
   "execution_count": 45,
   "metadata": {},
   "outputs": [
    {
     "name": "stdout",
     "output_type": "stream",
     "text": [
      "Element with index 10: eleven\n",
      "All array elements: one two three four five six eleven\n"
     ]
    }
   ],
   "source": [
    "echo \"Element with index 10: \"${my_array[10]}; echo \"All array elements: \"${my_array[*]}"
   ]
  },
  {
   "cell_type": "markdown",
   "metadata": {},
   "source": [
    "To remove an element at a specific index from an array, you can use the `unset` command. It it also used to remove entire variable."
   ]
  },
  {
   "cell_type": "code",
   "execution_count": 47,
   "metadata": {},
   "outputs": [
    {
     "name": "stdout",
     "output_type": "stream",
     "text": [
      "Element with index 4: five\n"
     ]
    }
   ],
   "source": [
    "echo \"Element with index 4: \"${my_array[4]}"
   ]
  },
  {
   "cell_type": "code",
   "execution_count": 48,
   "metadata": {},
   "outputs": [],
   "source": [
    "unset my_array[4]"
   ]
  },
  {
   "cell_type": "code",
   "execution_count": 49,
   "metadata": {},
   "outputs": [
    {
     "name": "stdout",
     "output_type": "stream",
     "text": [
      "Element with index 4: \n",
      "All array elements: one two three four six eleven\n"
     ]
    }
   ],
   "source": [
    "echo \"Element with index 4: \"${my_array[4]}; echo \"All array elements: \"${my_array[*]}"
   ]
  },
  {
   "cell_type": "markdown",
   "metadata": {},
   "source": [
    "As can be seen, the element with index 4 does not exist, and when displaying all elements, the name \"five\" does not appear. Similarly, to remove the entire array, you need to specify `*` or `@` as the index."
   ]
  },
  {
   "cell_type": "code",
   "execution_count": 53,
   "metadata": {},
   "outputs": [],
   "source": [
    "unset my_array[*]"
   ]
  },
  {
   "cell_type": "code",
   "execution_count": 54,
   "metadata": {},
   "outputs": [
    {
     "name": "stdout",
     "output_type": "stream",
     "text": [
      "\n"
     ]
    }
   ],
   "source": [
    "echo ${my_array[*]}"
   ]
  },
  {
   "cell_type": "markdown",
   "metadata": {},
   "source": [
    "## 4.4 Reserved words"
   ]
  },
  {
   "cell_type": "markdown",
   "metadata": {},
   "source": [
    "Reserved words have special meaning in the `bash` shell and should not be used as variable names. Their list is provided below:\n",
    "\n",
    "- `if`\n",
    "- `then`\n",
    "- `else`\n",
    "- `elif`\n",
    "- `fi`\n",
    "- `case`\n",
    "- `esac`\n",
    "- `for`\n",
    "- `while`\n",
    "- `until`\n",
    "- `do`\n",
    "- `done`\n",
    "- `in`\n",
    "- `function`\n",
    "- `select`\n",
    "- `time`\n",
    "- `return`\n",
    "- `exit`\n",
    "- `break`\n",
    "- `continue`\n",
    "- `declare`\n",
    "- `readonly`\n",
    "- `local`\n",
    "- `export`\n",
    "- `eval`\n",
    "- `set`\n",
    "- `unset`\n",
    "- `shift`\n",
    "- `source`\n",
    "- `trap`\n",
    "- `exec`\n",
    "- `true`\n",
    "- `false`\n",
    "- `null`\n",
    "\n",
    "It is advisable to avoid using these words as variable names to prevent conflicts with the shell's syntax and functionality."
   ]
  }
 ],
 "metadata": {
  "kernelspec": {
   "display_name": "Bash",
   "language": "bash",
   "name": "bash"
  },
  "language_info": {
   "codemirror_mode": "shell",
   "file_extension": ".sh",
   "mimetype": "text/x-sh",
   "name": "bash"
  }
 },
 "nbformat": 4,
 "nbformat_minor": 2
}
