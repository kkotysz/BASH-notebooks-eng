{
 "cells": [
  {
   "cell_type": "markdown",
   "metadata": {},
   "source": [
    "# 6. AWK Interpreted Language - Part 1"
   ]
  },
  {
   "cell_type": "markdown",
   "metadata": {},
   "source": [
    "Another powerful tool for text file processing in UNIX systems is the `awk` program. It can be treated as a standalone scripting programming language. It can be used both as a standalone command in the terminal and within scripts, and it can consist of a series of commands forming a single awk script. `awk` provides many useful data structures, including associative arrays (indexed not by numbers but by words), string variables, and regular expressions. Here, we will focus on using the awk language in the form of one-liner commands using the aforementioned structures."
   ]
  },
  {
   "cell_type": "markdown",
   "metadata": {},
   "source": [
    "## 6.1 Structure of `awk` and Basic Command Usage"
   ]
  },
  {
   "cell_type": "markdown",
   "metadata": {},
   "source": [
    "The `awk` program follows a specific structure and allows the execution of commands based on patterns and actions. The basic syntax of an `awk` command is as follows:\n",
    "\n",
    "```bash\n",
    "awk 'pattern { action }' input_file\n",
    "```\n",
    "\n",
    "The `pattern` specifies the condition or criteria that the input records must meet, while the `action` defines the instructions to be executed when the pattern is matched. The `input_file` is the file on which the `awk` command will operate.\n",
    "\n",
    "Here are some commonly used `awk` commands:\n",
    "\n",
    "- `print`: Prints the specified fields or variables.\n",
    "- `printf`: Prints formatted output based on a format string.\n",
    "- `if-else`: Executes different actions based on a condition.\n",
    "- `for` and `while` loops: Repeatedly execute a block of code.\n",
    "- Mathematical operations: Perform arithmetic calculations.\n",
    "- String manipulation: Concatenate, split, or modify strings.\n",
    "- Array manipulation: Create, access, or modify elements in an array.\n",
    "\n",
    "These commands can be combined and customized to perform complex data processing tasks on text files."
   ]
  },
  {
   "cell_type": "markdown",
   "metadata": {},
   "source": [
    "After the `awk` command, the commands that the program will execute should be enclosed in single quotes `''`, and the name of the file to be processed should be provided. The `awk` command can also be used in a pipeline `|`.\n",
    "\n",
    "In `awk`, there is a built-in command called `print` used to display the content of a file. Each line is divided into individual fields based on the default separator (spaces or tabs).\n",
    "\n",
    "Here are some examples:\n",
    "\n",
    "1. Displaying the content of a file:\n",
    "   ```bash\n",
    "   awk '{ print }' filename\n",
    "   ```\n",
    "\n",
    "2. Printing specific fields of a file:\n",
    "   ```bash\n",
    "   awk '{ print $1, $3 }' filename\n",
    "   ```\n",
    "\n",
    "3. Conditional printing:\n",
    "   ```bash\n",
    "   awk '{ if ($2 > 50) print $1 }' filename\n",
    "   ```\n",
    "\n",
    "4. Performing calculations and printing the result:\n",
    "   ```bash\n",
    "   awk '{ total = $2 + $3; print \"Total: \" total }' filename\n",
    "   ```\n",
    "\n",
    "These examples illustrate the basic usage of `awk` and demonstrate how it can be used to process and manipulate text files effectively."
   ]
  },
  {
   "cell_type": "markdown",
   "metadata": {},
   "source": [
    ">It prints only the first column from the file if the value is greater than 999."
   ]
  },
  {
   "cell_type": "code",
   "execution_count": null,
   "metadata": {},
   "outputs": [],
   "source": [
    "awk '$1 > 999 {print $1}' files/equations.dat "
   ]
  },
  {
   "cell_type": "markdown",
   "metadata": {},
   "source": [
    ">Without specifying a command, the condition will be applied to the entire line, and the line will be printed."
   ]
  },
  {
   "cell_type": "code",
   "execution_count": null,
   "metadata": {},
   "outputs": [],
   "source": [
    "awk '$1 > 999' files/equations.dat "
   ]
  },
  {
   "cell_type": "markdown",
   "metadata": {},
   "source": [
    ">Similarly, without specifying a condition, the command will be applied to all lines in the file. For clarity, let's display only the last 10 lines of the `equations.dat` file. Additionally, we will combine the effect of the `tail` command with `awk` using a pipe (`|`)."
   ]
  },
  {
   "cell_type": "code",
   "execution_count": null,
   "metadata": {},
   "outputs": [],
   "source": [
    "tail -n 10 files/equations.dat | awk '{print $2}'"
   ]
  },
  {
   "cell_type": "markdown",
   "metadata": {},
   "source": [
    "## 6.2 Built-in Variables and Mathematical Operations\n",
    "\n",
    "In AWK, there are several built-in variables that provide useful information during text processing. Here are some commonly used built-in variables:\n",
    "\n",
    "- `NR`: Represents the current record (line) number being processed.\n",
    "- `NF`: Stores the number of fields (columns) in the current record.\n",
    "- `$0`: Refers to the entire current record (line).\n",
    "- `$1`, `$2`, `$3`, ...: Refer to the individual fields/columns in the current record.\n",
    "\n",
    "Additionally, there are other built-in variables available:\n",
    "\n",
    "- `FNR`: Represents the record number within the current file.\n",
    "- `FILENAME`: Stores the name of the current input file being processed.\n",
    "- `FS`: Specifies the input field separator (default is whitespace).\n",
    "- `OFS`: Specifies the output field separator (default is whitespace).\n",
    "- `RS`: Specifies the input record separator (default is a newline).\n",
    "- `ORS`: Specifies the output record separator (default is a newline).\n",
    "\n",
    "AWK also supports various mathematical operations, such as addition (`+`), subtraction (`-`), multiplication (`*`), division (`/`), modulus (`%`), and exponentiation (`^`). These operations can be performed on numeric values and variables.\n",
    "\n",
    "Let's look at some examples of using built-in variables and mathematical operations in AWK."
   ]
  },
  {
   "cell_type": "markdown",
   "metadata": {},
   "source": [
    "> In this example, the numbers from the second line of the file `equations.dat` are divided."
   ]
  },
  {
   "cell_type": "code",
   "execution_count": null,
   "metadata": {},
   "outputs": [],
   "source": [
    "awk 'NR==2 {print \"numbers: \"$1,$3,\"| division result: \",$1/$3}' files/equations.dat"
   ]
  },
  {
   "cell_type": "markdown",
   "metadata": {},
   "source": [
    "Explanation:\n",
    "- `NR==2` specifies the condition that the action should be performed only on the second line.\n",
    "- `$1/$3` divides the first field (`$1`) by the third field (`$3`) and prints the result."
   ]
  },
  {
   "cell_type": "code",
   "execution_count": null,
   "metadata": {},
   "outputs": [],
   "source": [
    "awk 'NR==1 {print \"numbers: \"$1,$3,\"| exponentiation result: \",$1^2,$3^2}' files/equations.dat"
   ]
  },
  {
   "cell_type": "markdown",
   "metadata": {},
   "source": [
    "It's worth noting that exponentiation result for large numbers loses it's precision."
   ]
  },
  {
   "cell_type": "markdown",
   "metadata": {},
   "source": [
    "> With `awk`, you can easily write a script to calculate the time base from the first notebook."
   ]
  },
  {
   "cell_type": "code",
   "execution_count": null,
   "metadata": {},
   "outputs": [],
   "source": [
    "head files/TIC102090493-s2-121s_lc3_fppt.dat"
   ]
  },
  {
   "cell_type": "code",
   "execution_count": null,
   "metadata": {},
   "outputs": [],
   "source": [
    "start=$(awk 'NR==2{print $1}' files/TIC102090493-s2-121s_lc3_fppt.dat)  # get first field from second line"
   ]
  },
  {
   "cell_type": "code",
   "execution_count": null,
   "metadata": {},
   "outputs": [],
   "source": [
    "end=$(awk 'END{print $1}' files/TIC102090493-s2-121s_lc3_fppt.dat)    # get first field from last line"
   ]
  },
  {
   "cell_type": "code",
   "execution_count": null,
   "metadata": {},
   "outputs": [],
   "source": [
    "echo $end-$start | bc -l         # calculate time base"
   ]
  },
  {
   "cell_type": "markdown",
   "metadata": {},
   "source": [
    "> An example of how to change the field separator: a **dot** `.` will be used. I want to set the separator at the very beginning, which is guaranteed by `BEGIN {FS=\".\"}`. Then I need to separate this command from the following ones using a semicolon. Next, I print the first field for lines less than 10 and (the second condition is added using `&&`) greater than 1."
   ]
  },
  {
   "cell_type": "code",
   "execution_count": null,
   "metadata": {},
   "outputs": [],
   "source": [
    "awk 'BEGIN{FS=\".\"}; NR<10 && NR>1{print $1}' files/TIC102090493-s2-121s_lc3_fppt.dat"
   ]
  },
  {
   "cell_type": "markdown",
   "metadata": {},
   "source": [
    "## 6.3 Regular Expressions with `awk`"
   ]
  },
  {
   "cell_type": "markdown",
   "metadata": {},
   "source": [
    "`awk` also uses regular expressions (see the table in Notebook 5)"
   ]
  },
  {
   "cell_type": "code",
   "execution_count": null,
   "metadata": {},
   "outputs": [],
   "source": [
    "head files/equations.dat"
   ]
  },
  {
   "cell_type": "code",
   "execution_count": null,
   "metadata": {},
   "outputs": [],
   "source": [
    "awk '/[+-]/' files/equations.dat | awk 'NR<10'   # print the first 10 lines that contain the characters \"+\" or \"-\"."
   ]
  },
  {
   "cell_type": "markdown",
   "metadata": {},
   "source": [
    ">It will print the first element of lines that contain a phrase starting with \"A\" or \"a\", followed by any character, and ending with any character except space."
   ]
  },
  {
   "cell_type": "code",
   "execution_count": null,
   "metadata": {},
   "outputs": [],
   "source": [
    "awk '/^[Aa].[^ ]/ {print $1}' files/bd_dr.txt"
   ]
  },
  {
   "cell_type": "markdown",
   "metadata": {},
   "source": [
    "t.b.c."
   ]
  }
 ],
 "metadata": {
  "kernelspec": {
   "display_name": "Bash",
   "language": "bash",
   "name": "bash"
  },
  "language_info": {
   "codemirror_mode": "shell",
   "file_extension": ".sh",
   "mimetype": "text/x-sh",
   "name": "bash"
  }
 },
 "nbformat": 4,
 "nbformat_minor": 2
}
