{
 "cells": [
  {
   "cell_type": "markdown",
   "metadata": {},
   "source": [
    "# 9. `for` Loop and Conditions in `awk`\n",
    "\n",
    "In addition to using `for` loops in shell scripts, you can also utilize loops and conditions within the `awk` command. `awk` is a powerful text processing tool that allows you to perform various operations on text files.\n",
    "\n",
    "\n",
    "By combining loops and conditions in `awk`, you can perform complex text processing operations based on specific criteria and patterns found in the input data.\n",
    "\n",
    "**Remember that `awk` has its own syntax and capabilities for loops and conditions, so make sure to refer to the `awk` documentation or resources for more in-depth guidance on utilizing these features.**"
   ]
  },
  {
   "cell_type": "markdown",
   "metadata": {},
   "source": [
    "## 9.1 Conditional Statement in `awk`"
   ]
  },
  {
   "cell_type": "markdown",
   "metadata": {},
   "source": [
    "This statement is used to create conditions that are interpreted as either __true__ or __false__. If the specified condition is satisfied, you can specify which commands should be executed. You can also define what the script should do if the condition is not satisfied. The syntax for such a **one-liner** conditional statement is as follows:\n",
    "\n",
    "```bash\n",
    "awk '{if(condition) {command1}' file\n",
    "```\n",
    "\n",
    "`if-else` structure\n",
    "```bash\n",
    "awk '{if(condition) {command1} else {command2}}'  file\n",
    "```\n",
    "- `condition` is the expression that evaluates to true or false.\n",
    "- If the `condition` is true, `command1` will be executed.\n",
    "- If the `condition` is false, `command2` will be executed.\n",
    "\n",
    "You can use this one-liner conditional statement in various scenarios where you want to execute different commands based on a condition. It provides a concise way of handling conditional logic within a single line of code."
   ]
  },
  {
   "cell_type": "markdown",
   "metadata": {},
   "source": [
    "`else if` structure (as many conditions as we want)\n",
    "```bash\n",
    "awk '{if(condition1) {command1} else if (condition2) {command2} else {command3}}'  file\n",
    "```\n",
    "\n",
    "__One-liner example:__\n",
    "\n",
    "Contents of `numbers.dat`\n",
    "```bash\n",
    "1\n",
    "2\n",
    "3\n",
    "4\n",
    "5\n",
    "6\n",
    "7\n",
    "8\n",
    "9\n",
    "```"
   ]
  },
  {
   "cell_type": "code",
   "execution_count": null,
   "metadata": {},
   "outputs": [],
   "source": [
    "awk '{if($1>5) {print $1\" is greater than 5\"} else {print $1\" is lesser than 5\"}}' files/numbers.dat"
   ]
  },
  {
   "cell_type": "markdown",
   "metadata": {},
   "source": [
    "Can be improved:"
   ]
  },
  {
   "cell_type": "code",
   "execution_count": null,
   "metadata": {},
   "outputs": [],
   "source": [
    "awk '{if($1>5) {print $1\" > 5\"} else if($1==5) {print $1\" == 5\"} else {print $1\" < 5\"}}' files/numbers.dat"
   ]
  },
  {
   "cell_type": "markdown",
   "metadata": {},
   "source": [
    "As you can see, more complex one-liner commands can be less readable. When writing such a command in a script, it's worth formatting it properly to improve the readability of the code. \n",
    "\n",
    "__Example:__\n",
    "\n",
    "The script checks whether the numbers in the file are greater than/less than/equal to 5. Of course, error handling such as handling letters or other non-numeric characters instead of numbers is not included in this example.\n",
    "\n",
    "Content of `ifnumber_awk.bash`:\n",
    "```bash\n",
    "#!/bin/bash\n",
    "awk '{\n",
    "    if ($1 == 5) {\n",
    "        print \"Congratulations, your number is exactly 5\"\n",
    "    } else if ($1 > 5) {\n",
    "        print \"Your number is greater than 5\"\n",
    "    } else {\n",
    "        print \"Your number is less than 5\"\n",
    "    }\n",
    "}' $1\n",
    "```\n",
    "\n",
    "In this example, the `awk` command is used with an inline `if-else` statement to evaluate the numbers and print corresponding messages based on the conditions. The code is properly formatted with indentation, making it easier to understand the flow of the conditional logic."
   ]
  },
  {
   "cell_type": "code",
   "execution_count": null,
   "metadata": {},
   "outputs": [],
   "source": [
    "bash scripts/ifnumber_awk.bash files/numbers.dat"
   ]
  },
  {
   "cell_type": "markdown",
   "metadata": {},
   "source": [
    "## 9.2 Conditional Statement - Regular Expression (regex)"
   ]
  },
  {
   "cell_type": "markdown",
   "metadata": {},
   "source": [
    "__1) Example with a string condition. Checking if the email in the file has the correct format using a regular expression (enclosed in slashes `/REGEX/`):__\n",
    "\n",
    "Content of `mail_list.dat`:\n",
    "```bash\n",
    "surname@server.com\n",
    "name.surname@server.edu.com\n",
    "adres@email\n",
    "123456\n",
    "```\n",
    "\n",
    "Content of `ifemail_awk.bash`:\n",
    "```bash\n",
    "#!/bin/bash\n",
    "awk '{\n",
    "if ($1 ~ /^[A-Za-z0-9\\._%+-]+@[A-Za-z0-9\\.-]+\\.[A-Za-z]{2,4}$/)\n",
    "{\n",
    "    print \"Adres \"$1\" is valid\"\n",
    "}\n",
    "else\n",
    "{\n",
    "    print \"Adres \"$1\" is invalid\"\n",
    "}\n",
    "'} files/mail_list.dat\n",
    "```\n",
    "\n",
    "In this example, the `awk` command reads each line of the `mail_list.dat` file. \n",
    "\n",
    "The condition `($1 ~ /^[A-Za-z0-9\\._%+-]+@[A-Za-z0-9\\.-]+\\.[A-Za-z]{2,4}$/)` checks if the first field (`$1`) matches the regular expression pattern for a valid email address. The pattern `/^[A-Za-z0-9\\._%+-]+@[A-Za-z0-9\\.-]+\\.[A-Za-z]{2,4}$/` ensures that the email address has the correct format.\n",
    "\n",
    "If the condition is met, it prints the message: **\"Adres `email_address` is valid.\"**\n",
    "\n",
    "Otherwise, it prints: **\"Adres `email_address` is invalid.\"**\n",
    "\n",
    "Note that the regular expression used in this example is a simplified version for demonstration purposes and may not cover all possible valid email address formats."
   ]
  },
  {
   "cell_type": "code",
   "execution_count": null,
   "metadata": {},
   "outputs": [],
   "source": [
    "bash scripts/ifemail_awk.bash"
   ]
  },
  {
   "cell_type": "markdown",
   "metadata": {},
   "source": [
    "**In `awk`, comparing numbers (including real numbers) or strings is done using the same construction, without distinguishing between different types of parentheses.**"
   ]
  },
  {
   "cell_type": "markdown",
   "metadata": {},
   "source": [
    "## 9.3 `for` loop in `awk`"
   ]
  },
  {
   "cell_type": "markdown",
   "metadata": {},
   "source": [
    "The `for` loop allows for executing a specific command (known as iterating) a predetermined number of times. Each time a new iteration of the loop runs, the same action can be performed with a different variable. In `awk`, the `for` loop has a slightly different form than in `bash` - it counts the successive iterations of the loop. The syntax for the `for` loop is as follows:\n",
    "\n",
    "```bash\n",
    "awk '{for(initialize_variable; end_condition; increment_variable) {action} '}\n",
    "```\n",
    "\n",
    "The values can be defined by numbers, files, or the result of a command. Here are three examples."
   ]
  },
  {
   "cell_type": "markdown",
   "metadata": {},
   "source": [
    "__1) Example of a `for` loop with a range of numbers:__\n",
    "\n",
    "Contents of `for_num_awk.bash`:\n",
    "```bash\n",
    "#!/bin/bash\n",
    "awk 'BEGIN{\n",
    "for(i=1; i<=10; i++)\n",
    "    print i\n",
    "}'\n",
    "```"
   ]
  },
  {
   "cell_type": "code",
   "execution_count": null,
   "metadata": {},
   "outputs": [],
   "source": [
    "bash scripts/for_num_awk.bash # here, each time a loop is iterated, i value is incremented"
   ]
  },
  {
   "cell_type": "markdown",
   "metadata": {},
   "source": [
    "__2) `for` loop with array:__"
   ]
  },
  {
   "cell_type": "markdown",
   "metadata": {},
   "source": [
    "Contents of `for_array.bash`:\n",
    "```bash\n",
    "#!/bin/bash\n",
    "awk 'BEGIN{\n",
    "   fruits[\"pineapple\"] = \"yellow\";\n",
    "   fruits[\"orange\"] = \"orange\";\n",
    "   fruits[\"kiwi\"] = \"green\";\n",
    "   fruits[\"pomegranate\"] = \"red\";\n",
    "for(i in fruits)\n",
    "    print i\n",
    "}'\n",
    "```"
   ]
  },
  {
   "cell_type": "code",
   "execution_count": null,
   "metadata": {},
   "outputs": [],
   "source": [
    "bash scripts/for_array.bash"
   ]
  },
  {
   "cell_type": "markdown",
   "metadata": {},
   "source": [
    "## 9.4 Breaking with `break` and continuing with `continue` in `awk`\n",
    "\n",
    "In `awk`, you can also use the `break` and `continue` statements to control the flow of loops. Here's how they work:\n",
    "\n",
    "- `break`: The `break` statement is used to exit the current loop immediately. It allows you to prematurely terminate the loop and continue executing the next statements after the loop.\n",
    "\n",
    "- `continue`: The `continue` statement is used to skip the rest of the current iteration and move to the next iteration of the loop. It allows you to skip specific iterations and continue with the next iteration.\n",
    "\n",
    "These statements can be useful when you want to conditionally break out of a loop or skip certain iterations based on certain conditions.\n",
    "\n",
    "Please note that the usage of `break` and `continue` in `awk` follows a similar pattern as in other programming languages, and they are used within the context of `if` or other conditional statements to control the loop behavior."
   ]
  },
  {
   "cell_type": "markdown",
   "metadata": {},
   "source": [
    "Content of `for_break.bash`:<br>\n",
    "Example script that finds the smallest divisor of a number.\n",
    "\n",
    "```bash\n",
    "#!/bin/bash\n",
    "awk '{\n",
    "    number = $1;\n",
    "    for (divisor = 2; divisor * divisor <= number; divisor++)\n",
    "    {\n",
    "        if (number % divisor == 0)\n",
    "        {\n",
    "            break\n",
    "        }\n",
    "    };\n",
    "\n",
    "    if (number % divisor == 0)\n",
    "    {\n",
    "        printf(\"The smallest divisor of %d is %d\\n\", number, divisor)\n",
    "    }    \n",
    "    else\n",
    "    {\n",
    "        printf(\"%d is a prime number\\n\", number)\n",
    "    }\n",
    "}' files/numbers.dat\n",
    "```"
   ]
  },
  {
   "cell_type": "code",
   "execution_count": null,
   "metadata": {},
   "outputs": [],
   "source": [
    "bash scripts/for_break.bash"
   ]
  },
  {
   "cell_type": "markdown",
   "metadata": {},
   "source": [
    "**Alternatively, you can skip the iteration of a loop when a specific condition is met using the `continue` command.**"
   ]
  },
  {
   "cell_type": "markdown",
   "metadata": {},
   "source": [
    "Content of `for_continue.bash`:\n",
    "\n",
    "Here the loop will iterate 20 times, but when the value of the variable is not divisible by 5, the loop will skip the remaining commands and move to the next iteration.\n",
    "\n",
    "```bash\n",
    "#!/bin/bash\n",
    "awk 'BEGIN {\n",
    "    for (x = 0; x <= 20; x++)\n",
    "    {\n",
    "        if (x % 5)\n",
    "        {\n",
    "            continue\n",
    "        }\n",
    "        printf \"%d is divisible by 5\\n\", x\n",
    "    }\n",
    "}'\n",
    "```"
   ]
  },
  {
   "cell_type": "code",
   "execution_count": null,
   "metadata": {},
   "outputs": [],
   "source": [
    "bash scripts/for_continue.bash"
   ]
  },
  {
   "cell_type": "markdown",
   "metadata": {},
   "source": [
    "## 9.5 Generating Commands Using `awk`"
   ]
  },
  {
   "cell_type": "markdown",
   "metadata": {},
   "source": [
    "Using `awk` and leveraging loops, it is also easy to generate commands that will be executed in `bash`. This is a clever way to quickly execute multiple commands, providing more formatting options and allowing for error detection before running the command."
   ]
  },
  {
   "cell_type": "markdown",
   "metadata": {},
   "source": [
    "For example, you can generate a list of commands that operate on the gcd.sh script, which calculates the greatest common divisor (GCD) of two numbers."
   ]
  },
  {
   "cell_type": "code",
   "execution_count": null,
   "metadata": {},
   "outputs": [],
   "source": [
    "awk 'BEGIN{for(i=1;i<=5;i=i+0.5)printf(\"scripts/gcd.sh 10 %.1f\\n\",i)}'"
   ]
  },
  {
   "cell_type": "code",
   "execution_count": null,
   "metadata": {},
   "outputs": [],
   "source": [
    "awk 'BEGIN{for(i=1;i<=5;i=i+0.5)printf(\"scripts/gcd.sh 10 %.1f\\n\",i)}' | bash"
   ]
  },
  {
   "cell_type": "markdown",
   "metadata": {},
   "source": [
    "Another example is generating commands to perform operations on files, such as copying or creating files/directories."
   ]
  },
  {
   "cell_type": "code",
   "execution_count": null,
   "metadata": {},
   "outputs": [],
   "source": [
    "awk 'BEGIN{for(i=2;i<=16;i=i+2)printf(\"touch kat_%d\\n\",i)}'"
   ]
  },
  {
   "cell_type": "code",
   "execution_count": null,
   "metadata": {},
   "outputs": [],
   "source": [
    "awk 'BEGIN{for(i=2;i<=16;i=i+2)printf(\"touch file_%d\\n\",i)}' | bash  # will generete even numbered files"
   ]
  },
  {
   "cell_type": "markdown",
   "metadata": {},
   "source": [
    "As a comparison, similar command done entirely in `bash`:"
   ]
  },
  {
   "cell_type": "code",
   "execution_count": null,
   "metadata": {},
   "outputs": [],
   "source": [
    "for i in $(seq 1 2 16); do echo \"touch file_$i\"; done | bash  # will generete odd numbered files"
   ]
  },
  {
   "cell_type": "code",
   "execution_count": null,
   "metadata": {},
   "outputs": [],
   "source": [
    "ls file_*"
   ]
  }
 ],
 "metadata": {
  "kernelspec": {
   "display_name": "Bash",
   "language": "bash",
   "name": "bash"
  },
  "language_info": {
   "codemirror_mode": "shell",
   "file_extension": ".sh",
   "mimetype": "text/x-sh",
   "name": "bash"
  }
 },
 "nbformat": 4,
 "nbformat_minor": 4
}
