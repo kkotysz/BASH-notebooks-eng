{
 "cells": [
  {
   "cell_type": "markdown",
   "metadata": {},
   "source": [
    "# 1. BASH - basic commands"
   ]
  },
  {
   "cell_type": "markdown",
   "metadata": {},
   "source": [
    "### man - display the manual for a specific command"
   ]
  },
  {
   "cell_type": "markdown",
   "metadata": {},
   "source": [
    "We can check the functionality of any command and learn about the available options associated with it."
   ]
  },
  {
   "cell_type": "code",
   "execution_count": null,
   "metadata": {},
   "outputs": [],
   "source": [
    "man cp | head -n 30    # command `head -n 30` displays 30 first lines of the manual"
   ]
  },
  {
   "cell_type": "markdown",
   "metadata": {},
   "source": [
    "A condensed version of the help for a specific command can be invoked by running the command with the `--help` option. For example, if we want to learn how the `ls` command works, we can use the following:\n",
    "\n",
    "```\n",
    "ls --help\n",
    "```\n",
    "\n",
    "This will display a shorter version of the help information for the `ls` command, providing an overview of its usage and available options."
   ]
  },
  {
   "cell_type": "code",
   "execution_count": null,
   "metadata": {},
   "outputs": [],
   "source": [
    "ls --help | head -n 30"
   ]
  },
  {
   "cell_type": "markdown",
   "metadata": {},
   "source": [
    "## 1.1 File manipulation"
   ]
  },
  {
   "cell_type": "markdown",
   "metadata": {},
   "source": [
    "To begin with, it's worth noting that whatever we do in the terminal, the output of a command will be displayed on the screen by default. In BASH, there are specific redirection operators to change this behavior. They are:\n",
    "\n",
    "- <b>command1 &gt; FILE1</b>: The result of the command1 operation will be written to a file named FILE1 (applying it again will overwrite the file).\n",
    "- <b>command2 &gt;&gt; FILE2</b>: The result of the command2 operation will be appended to the end of a file named FILE2.\n",
    "- <b>command3 &lt; FILE3</b>: The contents of a file named FILE3 will be redirected to the input of the command3 operation.\n",
    "\n",
    "Examples of redirection usage will be shown below with specific commands."
   ]
  },
  {
   "cell_type": "markdown",
   "metadata": {},
   "source": [
    "### ls - display contents of current directory"
   ]
  },
  {
   "cell_type": "code",
   "execution_count": null,
   "metadata": {
    "scrolled": true
   },
   "outputs": [],
   "source": [
    "ls"
   ]
  },
  {
   "cell_type": "markdown",
   "metadata": {},
   "source": [
    "#### Useful options:\n",
    "    -l: Displays in list format.\n",
    "    -t: Sorts by file modification time.\n",
    "    -r: Reverses the sorting order.\n",
    "    -h: Displays file sizes in a human-readable format."
   ]
  },
  {
   "cell_type": "code",
   "execution_count": null,
   "metadata": {},
   "outputs": [],
   "source": [
    "ls -lrth"
   ]
  },
  {
   "cell_type": "markdown",
   "metadata": {},
   "source": [
    "The output of the `ls` command can be redirected to a file."
   ]
  },
  {
   "cell_type": "code",
   "execution_count": null,
   "metadata": {},
   "outputs": [],
   "source": [
    "ls -lrth > file_list.txt"
   ]
  },
  {
   "cell_type": "code",
   "execution_count": null,
   "metadata": {},
   "outputs": [],
   "source": [
    "ls -lrth"
   ]
  },
  {
   "cell_type": "markdown",
   "metadata": {},
   "source": [
    "You can see that a file named `file_list.txt` has appeared. Now you can display the contents of this file."
   ]
  },
  {
   "cell_type": "markdown",
   "metadata": {},
   "source": [
    "### cat - display the contents of the file"
   ]
  },
  {
   "cell_type": "code",
   "execution_count": null,
   "metadata": {},
   "outputs": [],
   "source": [
    "cat file_list.txt"
   ]
  },
  {
   "cell_type": "markdown",
   "metadata": {},
   "source": [
    "The file contains the output of the `ls -lrth` command. On the list, there is also `file_list.txt`, which was just created and the output of `ls` was directed to it. You can see that the size of this file is 0, which indicates how the redirection to a file works. First, the file is created, and then the command is executed, with its output being written to the newly created file. We can also create files ourselves."
   ]
  },
  {
   "cell_type": "markdown",
   "metadata": {},
   "source": [
    "### touch - create file"
   ]
  },
  {
   "cell_type": "code",
   "execution_count": null,
   "metadata": {},
   "outputs": [],
   "source": [
    "touch telescope_names.txt"
   ]
  },
  {
   "cell_type": "code",
   "execution_count": null,
   "metadata": {},
   "outputs": [],
   "source": [
    "ls"
   ]
  },
  {
   "cell_type": "markdown",
   "metadata": {},
   "source": [
    "A blank file named `telescope_names.txt` has been created."
   ]
  },
  {
   "cell_type": "markdown",
   "metadata": {},
   "source": [
    "### echo - display a string or variable in the terminal"
   ]
  },
  {
   "cell_type": "code",
   "execution_count": null,
   "metadata": {},
   "outputs": [],
   "source": [
    "echo \"BLT (Białków Large Telescope)\""
   ]
  },
  {
   "cell_type": "markdown",
   "metadata": {},
   "source": [
    "You can also assign a value to a variable and display it. Variables are referenced using the `$` sign. Here's an example:"
   ]
  },
  {
   "cell_type": "code",
   "execution_count": null,
   "metadata": {},
   "outputs": [],
   "source": [
    "blt=\"BLT (Białków Large Telescope)\""
   ]
  },
  {
   "cell_type": "code",
   "execution_count": null,
   "metadata": {},
   "outputs": [],
   "source": [
    "echo $blt"
   ]
  },
  {
   "cell_type": "markdown",
   "metadata": {},
   "source": [
    "Such a string can be redirected to a file. This time, using the `>>` operator, the output of the `echo` command will be appended to the end of the `telescope_names.txt` file, which is currently empty. Let's check it:"
   ]
  },
  {
   "cell_type": "code",
   "execution_count": null,
   "metadata": {},
   "outputs": [],
   "source": [
    "cat telescope_names.txt"
   ]
  },
  {
   "cell_type": "code",
   "execution_count": null,
   "metadata": {},
   "outputs": [],
   "source": [
    "ls -lrth telescope_names.txt"
   ]
  },
  {
   "cell_type": "markdown",
   "metadata": {},
   "source": [
    "The `cat` command indeed didn't return anything, and the file size is 0. Now let's append our variable to the file."
   ]
  },
  {
   "cell_type": "code",
   "execution_count": null,
   "metadata": {},
   "outputs": [],
   "source": [
    "echo $blt >> telescope_names.txt"
   ]
  },
  {
   "cell_type": "code",
   "execution_count": null,
   "metadata": {},
   "outputs": [],
   "source": [
    "cat telescope_names.txt"
   ]
  },
  {
   "cell_type": "markdown",
   "metadata": {},
   "source": [
    "Now let's create another variable and append it to our file."
   ]
  },
  {
   "cell_type": "code",
   "execution_count": null,
   "metadata": {},
   "outputs": [],
   "source": [
    "vlt=\"VLT (Very Large Telescope)\""
   ]
  },
  {
   "cell_type": "code",
   "execution_count": null,
   "metadata": {},
   "outputs": [],
   "source": [
    "echo $vlt >> telescope_names.txt"
   ]
  },
  {
   "cell_type": "code",
   "execution_count": null,
   "metadata": {},
   "outputs": [],
   "source": [
    "cat telescope_names.txt"
   ]
  },
  {
   "cell_type": "markdown",
   "metadata": {},
   "source": [
    "When dealing with files containing multiple lines, displaying them in their entirety can be inconvenient. Therefore, you can display only a portion of the file, either the beginning or the end.\n",
    "\n",
    "The file named `TIC102090493-s2-121s_lc3_fppt.dat` is located in `scripts` directory and contains data on the brightness measurements of a star taken by the TESS satellite. Let's first try to count the number of lines in this file."
   ]
  },
  {
   "cell_type": "markdown",
   "metadata": {},
   "source": [
    "### wc - Counting lines/words/characters in a file"
   ]
  },
  {
   "cell_type": "code",
   "execution_count": null,
   "metadata": {},
   "outputs": [],
   "source": [
    "wc files/TIC102090493-s2-121s_lc3_fppt.dat"
   ]
  },
  {
   "cell_type": "markdown",
   "metadata": {},
   "source": [
    "The output of the command shows, in order, the number of lines, the number of words, the number of bytes, and the file name. Displaying the entire file would take up too much space in the terminal, so let's try to display only a few initial lines of the file to examine its syntax."
   ]
  },
  {
   "cell_type": "markdown",
   "metadata": {},
   "source": [
    "### head/tail - wyświetlenie początku/końca pliku"
   ]
  },
  {
   "cell_type": "code",
   "execution_count": null,
   "metadata": {},
   "outputs": [],
   "source": [
    "head files/TIC102090493-s2-121s_lc3_fppt.dat"
   ]
  },
  {
   "cell_type": "markdown",
   "metadata": {},
   "source": [
    "The command `head` by default displays the first 10 lines of a file. This number can be modified using the `-n` option."
   ]
  },
  {
   "cell_type": "code",
   "execution_count": null,
   "metadata": {
    "scrolled": true
   },
   "outputs": [],
   "source": [
    "head -n 4 files/TIC102090493-s2-121s_lc3_fppt.dat"
   ]
  },
  {
   "cell_type": "markdown",
   "metadata": {},
   "source": [
    "### cut - extract a portion of each line from a file"
   ]
  },
  {
   "cell_type": "markdown",
   "metadata": {},
   "source": [
    "The `cut` command needs to be executed with options, otherwise an error will occur. The general syntax is as follows: `cut <OPTION> <FILE>`"
   ]
  },
  {
   "cell_type": "code",
   "execution_count": null,
   "metadata": {},
   "outputs": [],
   "source": [
    "cat telescope_names.txt"
   ]
  },
  {
   "cell_type": "code",
   "execution_count": null,
   "metadata": {},
   "outputs": [],
   "source": [
    "cut -d \" \"  -f 1 telescope_names.txt"
   ]
  },
  {
   "cell_type": "markdown",
   "metadata": {},
   "source": [
    "The `-d` option allows you to specify the delimiter or separator used to split the data in the file. The `-f` option indicates which field or column you want to extract and display on the screen."
   ]
  }
 ],
 "metadata": {
  "kernelspec": {
   "display_name": "Bash",
   "language": "bash",
   "name": "bash"
  },
  "language_info": {
   "codemirror_mode": "shell",
   "file_extension": ".sh",
   "mimetype": "text/x-sh",
   "name": "bash"
  }
 },
 "nbformat": 4,
 "nbformat_minor": 4
}
