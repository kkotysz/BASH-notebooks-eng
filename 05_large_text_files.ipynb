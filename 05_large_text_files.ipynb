{
 "cells": [
  {
   "cell_type": "markdown",
   "metadata": {},
   "source": [
    "# 5. Working with Large Text Files: `sed` and `grep` Commands. File Permissions and Interactivity."
   ]
  },
  {
   "cell_type": "markdown",
   "metadata": {},
   "source": [
    "Very often, when working with files containing large amounts of data (such as multi-column and multi-row files), there is a need to filter such a file, search for a specific phrase within it, or replace certain values with others. In this section, we will present ways to perform such tasks in `bash`. However, before we delve into that, it is worth getting acquainted with another command that allows us to assign file **permissions** to a given file. This is related to a different way of executing scripts."
   ]
  },
  {
   "cell_type": "markdown",
   "metadata": {},
   "source": [
    "## 5.1 File Permissions - `chmod`"
   ]
  },
  {
   "cell_type": "markdown",
   "metadata": {},
   "source": [
    "The `chmod` command is used to change/set file permissions in UNIX systems (including Linux). Here is its usage:"
   ]
  },
  {
   "cell_type": "markdown",
   "metadata": {},
   "source": [
    "``` bash\n",
    "chmod [options] <permissions> <file>\n",
    "```\n",
    "First, let's check the permissions of our files:"
   ]
  },
  {
   "cell_type": "code",
   "execution_count": null,
   "metadata": {},
   "outputs": [],
   "source": [
    "ls -l"
   ]
  },
  {
   "cell_type": "markdown",
   "metadata": {},
   "source": [
    "The permissions of our files are displayed in the first column, indicated by the letters `rwx`. They represent the following:\n",
    "\n",
    "- `r` -> indicates that the file can be read (**r**ead)\n",
    "- `w` -> indicates that data can be written to the file (**w**rite)\n",
    "- `x` -> indicates that the file can be executed (e**x**ecute) (such as a script)\n",
    "\n",
    "To understand the format like `-rw-r--r--`, it's important to know that in Linux (and also in Windows), every file or folder has an owner (as there can be multiple users on a computer). Additionally, users can be grouped into groups, and permissions can be assigned to a group of users simultaneously.\n",
    "\n",
    "When executing the `ls -l` command, we can see the permissions for the owner, group, and other users. Taking `-rw-r--r--` as an example:\n",
    "- The first 4 characters correspond to the owner of the file, indicating that they can read and write to the file.\n",
    "- The next 3 characters correspond to the group, indicating that they can only read the file.\n",
    "- The last 3 characters correspond to other users, indicating that they can only read the file.\n",
    "- The letter `d` at the beginning indicates that it is a directory.\n",
    "\n"
   ]
  },
  {
   "cell_type": "markdown",
   "metadata": {},
   "source": [
    "To change permissions, you need to use the `chmod` command and specify the desired permissions to __add/remove/modify__, using the symbols __+/-/=__, and specify who - __user/group/other__, using __u/g/o__. For example, let's create an empty file and give it read, write, and execute permissions for all users (u and o). By default, it will be created with permissions `rw-r--r--`."
   ]
  },
  {
   "cell_type": "code",
   "execution_count": null,
   "metadata": {},
   "outputs": [],
   "source": [
    "touch emptyfile; ls -l emptyfile"
   ]
  },
  {
   "cell_type": "code",
   "execution_count": null,
   "metadata": {},
   "outputs": [],
   "source": [
    "chmod ou-w emptyfile; ls -l emptyfile            # removing write permissions for users."
   ]
  },
  {
   "cell_type": "code",
   "execution_count": null,
   "metadata": {},
   "outputs": [],
   "source": [
    "echo \"text\" > emptyfile                          # An error occurs when trying to write to the file"
   ]
  },
  {
   "cell_type": "code",
   "execution_count": null,
   "metadata": {},
   "outputs": [],
   "source": [
    "chmod uo=rwx  emptyfile; ls -l emptyfile         # granting read, write, and execute permissions to users"
   ]
  },
  {
   "cell_type": "markdown",
   "metadata": {},
   "source": [
    "I w końcu dodanie uprawnień:"
   ]
  },
  {
   "cell_type": "code",
   "execution_count": null,
   "metadata": {},
   "outputs": [],
   "source": [
    "chmod g+x emptyfile; ls -l emptyfile             # granting execute permissions to the group"
   ]
  },
  {
   "cell_type": "markdown",
   "metadata": {},
   "source": [
    "## 5.2 Another Way of Running a Script.\n",
    "\n",
    "In this section, we will explore an alternative method of running a script."
   ]
  },
  {
   "cell_type": "markdown",
   "metadata": {},
   "source": [
    "You can give execution permissions to your script (u+x) to run it using:\n",
    "`./script_name.bash` (if it's in our directory, otherwise we need to provide relative path to script).\n",
    "\n",
    "__[CAUTION]__ For this method to work, the script must begin with the shebang line `#!/bin/bash`."
   ]
  },
  {
   "cell_type": "code",
   "execution_count": null,
   "metadata": {},
   "outputs": [],
   "source": [
    "ls -l scripts/tbase.bash"
   ]
  },
  {
   "cell_type": "code",
   "execution_count": null,
   "metadata": {},
   "outputs": [],
   "source": [
    " chmod u+x scripts/tbase.bash; ls -l scripts/tbase.bash"
   ]
  },
  {
   "cell_type": "code",
   "execution_count": null,
   "metadata": {},
   "outputs": [],
   "source": [
    "scripts/tbase.bash TIC102090493-s2-121s_lc3_fppt.dat    # running script after giving execute permissions"
   ]
  },
  {
   "cell_type": "markdown",
   "metadata": {},
   "source": [
    "## 5.3 Working with Text Files: `sed` (stream editor)\n",
    "\n",
    "In this section, we will focus on working with text files using the `sed` command, which stands for stream editor."
   ]
  },
  {
   "cell_type": "markdown",
   "metadata": {},
   "source": [
    "The `sed` command is a very useful command that allows you to manipulate files in various ways. In fact, it is a quite advanced program that can be considered a programming language on its own. It is used for text processing. It is usually recommended to \"enclose\" the operations in single quotes ('operations') to ensure they are treated as a whole string. Double quotes can be used when combining with variables - they will be evaluated and substituted with their values.\n",
    "To execute:\n",
    "```bash\n",
    "sed [options] 'operations' file\n",
    "```\n",
    "The simplest usage example with the file `equations.dat`:"
   ]
  },
  {
   "cell_type": "code",
   "execution_count": null,
   "metadata": {
    "scrolled": true
   },
   "outputs": [],
   "source": [
    "sed -n '5p' files/equations.dat       # displays 5th line from the file"
   ]
  },
  {
   "cell_type": "markdown",
   "metadata": {},
   "source": [
    "In general, `sed` has the following options:\n",
    "- -n: only the lines on which the commands p or s (explained below) are applied will be printed.\n",
    "- -e: the next argument will be the editing command (in the above example, for formality, you could have written:\n",
    " \n",
    " `sed -ne '5p' equations.dat`\n",
    "- -f: the next argument is a file with commands for `sed`."
   ]
  },
  {
   "cell_type": "markdown",
   "metadata": {},
   "source": [
    "In the commands, we can use the following commands:\n",
    "- p: (print) print\n",
    "- s: (substitute) substitute\n",
    "- d: (delete) delete\n",
    "- g: (global) operate on the entire line, not just the first occurrence (in combination with s)\n",
    "\n",
    "Here are a few examples:"
   ]
  },
  {
   "cell_type": "code",
   "execution_count": null,
   "metadata": {},
   "outputs": [],
   "source": [
    "sed -ne '3,7p' files/equations.dat    # displays lines 3 through 7"
   ]
  },
  {
   "cell_type": "code",
   "execution_count": null,
   "metadata": {},
   "outputs": [],
   "source": [
    "sed -e '1,9997d' files/equations.dat   # will not display lines 1 through 9997"
   ]
  },
  {
   "cell_type": "markdown",
   "metadata": {},
   "source": [
    "With `sed`, you can search for patterns in a file and print or replace them. Patterns (also known as __regular expressions__) are defined using the following characters:\n",
    "\n",
    "| Character |     Meaning     | | |* * * * * *| | | Expression |     Meaning     |\n",
    "| :---: | :---------------: |-|-|-|-|-| :---: | :---------------: |\n",
    "|   ^   | Start of line  | | |* * * * * *| | | /./  | Line containing at least one character\n",
    "|   $   |   End of line  | | |* * * * * *| | | /../ | Line containing at least two characters\n",
    "|   .   |    Any character   | | |* * * * * *| | | /[abc]/ | Line containing a, b, or c\n",
    "|   *   |0 or more repetitions of the previous character| | |* * * * * *| | | /^#/ | Line starting with #/\n",
    "|  [ ]  | Character between “[“ and “]” | | |* * * * * *| | | }^/ | Line ending with “}”\n",
    "\n",
    "If you need to search for a character that is __reserved__ in the above table, you should precede it with a backslash `\\`. Commands can also be combined using a pipeline:"
   ]
  },
  {
   "cell_type": "code",
   "execution_count": null,
   "metadata": {},
   "outputs": [],
   "source": [
    "head files/equations.dat | sed -e 's/\\./dot/g'  # will change character '.' to word 'dot'"
   ]
  },
  {
   "cell_type": "markdown",
   "metadata": {},
   "source": [
    "The following command will replace an expression that contains the word `dot`, along with 3 characters before it and 2 characters after it, with the phrase `first_number`:"
   ]
  },
  {
   "cell_type": "code",
   "execution_count": null,
   "metadata": {},
   "outputs": [],
   "source": [
    "head files/equations.dat | sed -e 's/\\./dot/g' | sed -e 's/...dot../first_number /'"
   ]
  },
  {
   "cell_type": "markdown",
   "metadata": {},
   "source": [
    "The following command will replace the expression liczba with cyfra only for the first 5 lines but first we create a new file `change.dat` with only first 10 lines from the file `equations.dat`."
   ]
  },
  {
   "cell_type": "code",
   "execution_count": null,
   "metadata": {},
   "outputs": [],
   "source": [
    "head files/equations.dat | sed -e 's/\\./dot/g' | sed -e 's/...dot../first_number /' > change.dat"
   ]
  },
  {
   "cell_type": "code",
   "execution_count": null,
   "metadata": {},
   "outputs": [],
   "source": [
    "cat change.dat"
   ]
  },
  {
   "cell_type": "code",
   "execution_count": null,
   "metadata": {},
   "outputs": [],
   "source": [
    "sed -e '1,5s/number/digit/' change.dat      # change the word number to digit for the first 5 lines"
   ]
  },
  {
   "cell_type": "markdown",
   "metadata": {},
   "source": [
    "## 5.4 Working with Text Files: `grep`"
   ]
  },
  {
   "cell_type": "markdown",
   "metadata": {},
   "source": [
    "`grep` allows you to search for a specific phrase/pattern in a file. It is recommended to \"enclose\" the pattern with single quotes `'pattern'` - this way it will be recognized as a complete string. In the case of double quotes, a pattern like `\"$word\"` will be recognized as the value of the variable `word`.<br>\n",
    "\n",
    "__[NOTE]__ `grep` is case-sensitive.<br>\n",
    "\n",
    "The syntax is as follows:\n",
    "```bash\n",
    "grep [-options] pattern [file/path]\n",
    "```"
   ]
  },
  {
   "cell_type": "markdown",
   "metadata": {},
   "source": [
    "Useful options to use with the `grep` command:\n",
    "- `-i` ignores case sensitivity\n",
    "- `-r` searches recursively in subdirectories of the given path\n",
    "- `-l` shows the names of files that contain the matching pattern\n",
    "- `-n` shows the line numbers where the pattern occurs\n",
    "- `-v` shows the lines that do not contain the pattern\n",
    "- `-e` indicates that the next argument is the pattern\n",
    "\n",
    "Examples:"
   ]
  },
  {
   "cell_type": "code",
   "execution_count": null,
   "metadata": {},
   "outputs": [],
   "source": [
    "grep -n '264' files/equations.dat    # search for the string '264' show in which line it is located"
   ]
  },
  {
   "cell_type": "markdown",
   "metadata": {},
   "source": [
    "You can also use **regular expressions** similarly to the `sed` command:"
   ]
  },
  {
   "cell_type": "code",
   "execution_count": null,
   "metadata": {},
   "outputs": [],
   "source": [
    "grep -v '[0-5]' files/equations.dat    # prints the lines that do not contain digits from 0 to 5"
   ]
  },
  {
   "cell_type": "markdown",
   "metadata": {},
   "source": [
    "## 5.5 Interactivity: `read`"
   ]
  },
  {
   "cell_type": "markdown",
   "metadata": {},
   "source": [
    "In `bash`, you can also write scripts that are interactive to some extent. The `read` command is used for this purpose. In such a script, you should include the line:\n",
    "```bash\n",
    "read yourvariable\n",
    "```\n",
    "Where `yourvariable` is any variable name to which the input entered by the user will be assigned. After entering the input, you need to press the `Enter` key.\n",
    "\n",
    "**Example:**\n",
    "\n",
    "I will create a script named `greet.bash` with the following content:\n",
    "```bash\n",
    "#!/bin/bash\n",
    "echo \"Enter your name: \"\n",
    "read name\n",
    "echo \"Hello, \"$name\n",
    "```"
   ]
  },
  {
   "cell_type": "code",
   "execution_count": null,
   "metadata": {},
   "outputs": [],
   "source": [
    "chmod u+x scripts/greet.bash; ls -l scripts/greet.bash"
   ]
  },
  {
   "cell_type": "markdown",
   "metadata": {},
   "source": [
    "Running it in the terminal will produce the following effect:"
   ]
  },
  {
   "cell_type": "markdown",
   "metadata": {},
   "source": [
    "![SegmentLocal](images/greet.gif \"segment\")"
   ]
  }
 ],
 "metadata": {
  "kernelspec": {
   "display_name": "Bash",
   "language": "bash",
   "name": "bash"
  },
  "language_info": {
   "codemirror_mode": "shell",
   "file_extension": ".sh",
   "mimetype": "text/x-sh",
   "name": "bash"
  }
 },
 "nbformat": 4,
 "nbformat_minor": 4
}
