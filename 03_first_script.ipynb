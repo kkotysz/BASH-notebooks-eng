{
 "cells": [
  {
   "cell_type": "markdown",
   "metadata": {},
   "source": [
    "# 3. First Bash script: using variables, pipes, and redirection operators"
   ]
  },
  {
   "cell_type": "markdown",
   "metadata": {},
   "source": [
    "Writing scripts in the `bash` shell is a very important element that speeds up and facilitates working with the terminal. Instead of manually executing a series of commands, typing each one separately, you can write them all into a single file, which will then be read by the computer and the commands contained in it will be executed. However, first you need to learn the basic elements that appear in `bash`."
   ]
  },
  {
   "cell_type": "markdown",
   "metadata": {},
   "source": [
    "## 3.1 Redirection operators"
   ]
  },
  {
   "cell_type": "markdown",
   "metadata": {},
   "source": [
    "To begin with, it's worth remembering that whatever we do in the terminal, the output of a command will be displayed on the screen by default. In `bash`, there are specific redirection operators to change this behavior. They are: **`>` `>>` `<`**\n",
    "\n",
    ">`command1 > FILE1`: The output of `command1` will be written to a file named `FILE1` (if the file exists, it will be overwritten).\n",
    "`command2 >> FILE1`: The output of `command2` will be appended to the end of a file named `FILE2` (if the file exists, the content will be added at the end). <br>\n",
    "`command3 < FILE3`: The content of the file named `FILE3` will be redirected as input to `command3`."
   ]
  },
  {
   "cell_type": "code",
   "execution_count": null,
   "metadata": {},
   "outputs": [],
   "source": [
    "echo \"Astronomy\""
   ]
  },
  {
   "cell_type": "code",
   "execution_count": null,
   "metadata": {},
   "outputs": [],
   "source": [
    "echo \"Astronomy\" > astro.dat"
   ]
  },
  {
   "cell_type": "code",
   "execution_count": null,
   "metadata": {
    "scrolled": true
   },
   "outputs": [],
   "source": [
    "cat astro.dat"
   ]
  },
  {
   "cell_type": "markdown",
   "metadata": {},
   "source": [
    "Now the text 'Astronomy' is stored in a file named `astro.dat`."
   ]
  },
  {
   "cell_type": "markdown",
   "metadata": {},
   "source": [
    "## 3.2 Variables"
   ]
  },
  {
   "cell_type": "markdown",
   "metadata": {},
   "source": [
    "In `bash`, there is also the concept of variables, which can hold;\n",
    "- [x] Strings: Textual data enclosed in single quotes (') or double quotes (\").\n",
    "- [x] Integers: Whole numbers without decimal points.\n",
    "- [x] Floating-point numbers: Numbers with decimal points.\n",
    "- [x] Arrays: A collection of values accessed by index.\n",
    "- [x] Boolean values: Represented by true or false.\n",
    "- [x] Command outputs: The result of executing a command can be stored in a variable.\n",
    "\n",
    "These types of variables are impossible to store in `bash`:\n",
    "- [ ] Complex Numbers: Bash does not provide built-in support for complex number operations or storage.\n",
    "- [ ] Objects or Classes: Bash is not an object-oriented programming language\n",
    "- [ ] Data Structures: While Bash does support arrays, it does not provide built-in data structures like linked lists, stacks, queues, or trees.\n",
    "- [ ] Custom Data Types: Unlike languages with strong type systems, Bash does not allow defining or creating custom data types.\n",
    "\n",
    "Assigning a value to a variable is done using the `=` operator. \n",
    "\n",
    "Syntax: `variable_name=value`"
   ]
  },
  {
   "cell_type": "code",
   "execution_count": null,
   "metadata": {},
   "outputs": [],
   "source": [
    "myvar='anystring'"
   ]
  },
  {
   "cell_type": "code",
   "execution_count": null,
   "metadata": {},
   "outputs": [],
   "source": [
    "numvar=12"
   ]
  },
  {
   "cell_type": "markdown",
   "metadata": {},
   "source": [
    "To display the value of a variable, you need to refer to it using the `$` operator. Displaying the value is done using the `echo` command."
   ]
  },
  {
   "cell_type": "code",
   "execution_count": null,
   "metadata": {},
   "outputs": [],
   "source": [
    "echo $myvar"
   ]
  },
  {
   "cell_type": "code",
   "execution_count": null,
   "metadata": {},
   "outputs": [],
   "source": [
    "echo $numvar"
   ]
  },
  {
   "cell_type": "markdown",
   "metadata": {},
   "source": [
    "## 3.3 Pipes"
   ]
  },
  {
   "cell_type": "markdown",
   "metadata": {},
   "source": [
    "In the `bash` shell, there is a concept called \"pipe\" and it is used with the `|` symbol. This operation allows redirecting the output of one command to the input of another. It is written as `command1 | command2`. In the example below, we will redirect the output of the `ls` command to the `wc` command."
   ]
  },
  {
   "cell_type": "code",
   "execution_count": null,
   "metadata": {},
   "outputs": [],
   "source": [
    "ls -lrth"
   ]
  },
  {
   "cell_type": "code",
   "execution_count": null,
   "metadata": {},
   "outputs": [],
   "source": [
    "ls -lrth | wc"
   ]
  },
  {
   "cell_type": "markdown",
   "metadata": {},
   "source": [
    "As you can see, the redirection of the output of the `ls` command worked, and the `wc` command correctly returns the number of lines, words, and bytes."
   ]
  },
  {
   "cell_type": "markdown",
   "metadata": {},
   "source": [
    "#### calculator - bc"
   ]
  },
  {
   "cell_type": "markdown",
   "metadata": {},
   "source": [
    "A very convenient tool in `bash` is the calculator, which allows you to perform simple arithmetic calculations. This is done using the `bc` command. You need to redirect the expression displayed by the `echo` command to the `bc` calculator."
   ]
  },
  {
   "cell_type": "code",
   "execution_count": null,
   "metadata": {},
   "outputs": [],
   "source": [
    "echo \"9-5\" | bc"
   ]
  },
  {
   "cell_type": "markdown",
   "metadata": {},
   "source": [
    "Similarly, you can pass an expression using variables. Let's assign two values to variables `a` and `b` and multiply them."
   ]
  },
  {
   "cell_type": "code",
   "execution_count": null,
   "metadata": {},
   "outputs": [],
   "source": [
    "a=42"
   ]
  },
  {
   "cell_type": "code",
   "execution_count": null,
   "metadata": {},
   "outputs": [],
   "source": [
    "b=24"
   ]
  },
  {
   "cell_type": "code",
   "execution_count": null,
   "metadata": {},
   "outputs": [],
   "source": [
    "echo $a*$b | bc"
   ]
  },
  {
   "cell_type": "markdown",
   "metadata": {},
   "source": [
    "## 3.4 Script"
   ]
  },
  {
   "cell_type": "markdown",
   "metadata": {},
   "source": [
    "The purpose of this very simple script will be to calculate the time base (observation length) from a file containing photometry data of the star <b>HD 7454</b>. The data is obtained from the TESS satellite. The structure of the file is as follows:"
   ]
  },
  {
   "cell_type": "code",
   "execution_count": null,
   "metadata": {},
   "outputs": [],
   "source": [
    "head files/TIC102090493-s2-121s_lc3_fppt.dat"
   ]
  },
  {
   "cell_type": "markdown",
   "metadata": {},
   "source": [
    "The first line is the header, and the following lines consist of three columns: time, flux, and flux measurement error."
   ]
  },
  {
   "cell_type": "markdown",
   "metadata": {},
   "source": [
    "To display only the first line containing the time, we can use the `head` command. To calculate the time baseline, we'll subtract the initial time value from the final time value. We can achieve this by displaying the second line (excluding the header) using the `tail` command. The obtained value will be assigned to the variable `start`."
   ]
  },
  {
   "cell_type": "code",
   "execution_count": null,
   "metadata": {},
   "outputs": [],
   "source": [
    "head -n 2 files/TIC102090493-s2-121s_lc3_fppt.dat | tail -n 1"
   ]
  },
  {
   "cell_type": "markdown",
   "metadata": {},
   "source": [
    "**The result of a command can also be assigned to a variable.** This is done as follows:"
   ]
  },
  {
   "cell_type": "code",
   "execution_count": null,
   "metadata": {},
   "outputs": [],
   "source": [
    "start=$(head -n 2 files/TIC102090493-s2-121s_lc3_fppt.dat | tail -n 1)"
   ]
  },
  {
   "cell_type": "code",
   "execution_count": null,
   "metadata": {},
   "outputs": [],
   "source": [
    "echo $start"
   ]
  },
  {
   "cell_type": "markdown",
   "metadata": {},
   "source": [
    "To obtain only the values with time, we will use the `cut` command."
   ]
  },
  {
   "cell_type": "code",
   "execution_count": null,
   "metadata": {},
   "outputs": [],
   "source": [
    "echo $start | cut -d \" \" -f 1"
   ]
  },
  {
   "cell_type": "markdown",
   "metadata": {},
   "source": [
    "\n",
    "\n",
    "We can also capture the result of this command into a variable, which can have the same name. However, we cannot use the pipe operator (`|`) when defining the `start` variable for the first time because the text itself contains multiple spaces, which are trimmed when assigning the value to the variable. By using the `cut` command, we specify the separator (with `-d` option) that separates the columns, and once assigned to the variable, it becomes a single space. Then with option `-f` we choose which field we want (in this example it's the first one)."
   ]
  },
  {
   "cell_type": "code",
   "execution_count": null,
   "metadata": {},
   "outputs": [],
   "source": [
    "start=$(echo $start | cut -d \" \" -f 1)"
   ]
  },
  {
   "cell_type": "code",
   "execution_count": null,
   "metadata": {},
   "outputs": [],
   "source": [
    "echo $start"
   ]
  },
  {
   "cell_type": "markdown",
   "metadata": {},
   "source": [
    "Now, we just need to assign the last time value (last line) to a variable using similar commands and subtract them using the `bc` calculator."
   ]
  },
  {
   "cell_type": "code",
   "execution_count": null,
   "metadata": {},
   "outputs": [],
   "source": [
    "end=$(tail -n 1 files/TIC102090493-s2-121s_lc3_fppt.dat)"
   ]
  },
  {
   "cell_type": "code",
   "execution_count": null,
   "metadata": {},
   "outputs": [],
   "source": [
    "echo $end"
   ]
  },
  {
   "cell_type": "code",
   "execution_count": null,
   "metadata": {},
   "outputs": [],
   "source": [
    "end=$(echo $end | cut -d \" \" -f 1)"
   ]
  },
  {
   "cell_type": "code",
   "execution_count": null,
   "metadata": {},
   "outputs": [],
   "source": [
    "echo $end"
   ]
  },
  {
   "cell_type": "code",
   "execution_count": null,
   "metadata": {},
   "outputs": [],
   "source": [
    "tbase=$(echo $end-$start | bc)   # Subtracting the end value from the start value will give us the time base."
   ]
  },
  {
   "cell_type": "code",
   "execution_count": null,
   "metadata": {},
   "outputs": [],
   "source": [
    "echo $tbase"
   ]
  },
  {
   "cell_type": "markdown",
   "metadata": {},
   "source": [
    "The time base has been calculated. Now it's time to gather all the commands needed to calculate it and write them into a file, which will be our script. In this example, I will create a file named `tbase.bash` that will contain the following commands:"
   ]
  },
  {
   "cell_type": "code",
   "execution_count": null,
   "metadata": {},
   "outputs": [],
   "source": [
    "start=$(head -n 2 files/TIC102090493-s2-121s_lc3_fppt.dat | tail -n 1)\n",
    "start=$(echo $start | cut -d \" \" -f 1)\n",
    "end=$(tail -n 1 files/TIC102090493-s2-121s_lc3_fppt.dat)\n",
    "end=$(echo $end | cut -d \" \" -f 1)\n",
    "tbase=$(echo $end-$start | bc)\n",
    "echo $tbase"
   ]
  },
  {
   "cell_type": "code",
   "execution_count": null,
   "metadata": {},
   "outputs": [],
   "source": [
    "ls scripts/ # in scripts directory there is a file called tbase.bash that contains lines from above"
   ]
  },
  {
   "cell_type": "markdown",
   "metadata": {},
   "source": [
    "However, before I run the script, I need to inform the computer that it is indeed a script written in `bash`. This is done using a so-called preamble, which is placed at the beginning of every script. The line below} is the preamble.\n",
    "\n",
    "```bash\n",
    "#!/bin/bash\n",
    "```\n"
   ]
  },
  {
   "cell_type": "markdown",
   "metadata": {},
   "source": [
    "So the entire script looks like this:"
   ]
  },
  {
   "cell_type": "code",
   "execution_count": null,
   "metadata": {},
   "outputs": [],
   "source": [
    "cat scripts/tbase.bash"
   ]
  },
  {
   "cell_type": "markdown",
   "metadata": {},
   "source": [
    "It can be executed with command:"
   ]
  },
  {
   "cell_type": "code",
   "execution_count": null,
   "metadata": {},
   "outputs": [],
   "source": [
    "bash scripts/tbase.bash"
   ]
  },
  {
   "cell_type": "markdown",
   "metadata": {},
   "source": [
    "In this way of running the script, the preamble doesn't matter, but thanks to it, the text editor in which you write the script may start highlighting the syntax. The script works and correctly calculates the timebase from the file. **Additionally, we can include comments in the script using the `#` symbol.**"
   ]
  },
  {
   "cell_type": "markdown",
   "metadata": {},
   "source": [
    "Highlighting the syntax is very helpful to better understand the code:\n",
    "```bash\n",
    "#!/bin/bash\n",
    "start=$(head -n 2 files/TIC102090493-s2-121s_lc3_fppt.dat | tail -n 1)\n",
    "start=$(echo $start | cut -d \" \" -f 1)\n",
    "end=$(tail -n 1 files/TIC102090493-s2-121s_lc3_fppt.dat)\n",
    "end=$(echo $end | cut -d \" \" -f 1)\n",
    "tbase=$(echo $end-$start | bc)\n",
    "echo $tbase\n",
    "```"
   ]
  }
 ],
 "metadata": {
  "kernelspec": {
   "display_name": "Bash",
   "language": "bash",
   "name": "bash"
  },
  "language_info": {
   "codemirror_mode": "shell",
   "file_extension": ".sh",
   "mimetype": "text/x-sh",
   "name": "bash"
  }
 },
 "nbformat": 4,
 "nbformat_minor": 2
}
