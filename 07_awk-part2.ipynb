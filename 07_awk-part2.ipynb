{
 "cells": [
  {
   "cell_type": "markdown",
   "metadata": {},
   "source": [
    "# 7. AWK Interpreted Language - Part 2"
   ]
  },
  {
   "cell_type": "markdown",
   "metadata": {},
   "source": [
    "Second part of tutorial for using `awk`."
   ]
  },
  {
   "cell_type": "markdown",
   "metadata": {},
   "source": [
    "## 7.1 Passing a variable to `awk`"
   ]
  },
  {
   "cell_type": "markdown",
   "metadata": {},
   "source": [
    "AWK offers the ability to pass a variable defined in Bash to the inside of the `awk` command in order to use it there. To do this, you need to use the `-v` option and specify the variable name that you will use inside `awk`, and assign it the value of the `bash` variable."
   ]
  },
  {
   "cell_type": "code",
   "execution_count": null,
   "metadata": {},
   "outputs": [],
   "source": [
    "sys_name='Linux'    # let's define a string variable"
   ]
  },
  {
   "cell_type": "code",
   "execution_count": null,
   "metadata": {},
   "outputs": [],
   "source": [
    "awk -v name=\"$sys_name\" 'BEGIN{print \"My operating system is \"name}'    # option -v passes variable to awk"
   ]
  },
  {
   "cell_type": "markdown",
   "metadata": {},
   "source": [
    "> At this point, it is worth mentioning a special way of referencing a __string variable__ in Bash. You can selectively print only a portion of the string by specifying:\n",
    "- __offset__: the index from which to start printing\n",
    "- __length__: the number of characters to print, starting from the index specified by offset. If negative, it will omit the specified number of characters from the end of the string.\n",
    "- `{stringvariable:offset:length}`\n",
    "\n",
    "    Below is an example:"
   ]
  },
  {
   "cell_type": "code",
   "execution_count": null,
   "metadata": {},
   "outputs": [],
   "source": [
    "echo ${sys_name:2:3}     # Prints only the characters from 3 to 5 (index 2 and length 3) from the word \"Linux\""
   ]
  },
  {
   "cell_type": "code",
   "execution_count": null,
   "metadata": {},
   "outputs": [],
   "source": [
    "echo ${sys_name:0:-2}     # Prints from the beginning excluding the last 2 characters"
   ]
  },
  {
   "cell_type": "markdown",
   "metadata": {},
   "source": [
    "## 7.2 Specifying the File Separator in `awk`"
   ]
  },
  {
   "cell_type": "markdown",
   "metadata": {},
   "source": [
    "It is useful to have the ability to choose the character that separates the columns read by `awk`. This is provided by the `-F` option.\n",
    "```bash\n",
    "awk -F 'separator' '<condition> {<action>}'\n",
    "```\n",
    "\n",
    "Example:"
   ]
  },
  {
   "cell_type": "code",
   "execution_count": null,
   "metadata": {},
   "outputs": [],
   "source": [
    "head files/TIC12974182-comma.dat    # file with comma separated values"
   ]
  },
  {
   "cell_type": "code",
   "execution_count": null,
   "metadata": {},
   "outputs": [],
   "source": [
    "awk -F ',' 'NR<5{print $3}' files/TIC12974182-comma.dat    # The comma (`,`) has been chosen as the separator"
   ]
  },
  {
   "cell_type": "markdown",
   "metadata": {},
   "source": [
    "## 7.3 Formatted printing"
   ]
  },
  {
   "cell_type": "markdown",
   "metadata": {},
   "source": [
    "In `awk`, we can specify how we want to print our data. We can indicate the __type__ of our variable (e.g., __string__, __float__, __integer__) and specify the field width for the output. For floating-point numbers, we can also specify the number of decimal places.\n",
    "\n",
    "The `printf` function is used for this purpose. Here's an example:"
   ]
  },
  {
   "cell_type": "code",
   "execution_count": null,
   "metadata": {},
   "outputs": [],
   "source": [
    "awk -F ',' 'NR<5{printf(\"%7.4f\\n\", $2)}' files/TIC12974182-comma.dat"
   ]
  },
  {
   "cell_type": "markdown",
   "metadata": {},
   "source": [
    "In the above example, the first 4 values from the second column were printed. The printing format was determined by the notation `%11.8f`. This means that the numbers were printed with a field width of __7 digits__, including __4 digits after the decimal point__. This format allows for elegant alignment: 4 decimal places, a decimal point, one zero, and the potential sign (minus), which together make up 7 digits. Let's see how it would look if I print the same values with more than 7 digits and a field width of less than 7.\n",
    "\n",
    "> __[NOTE]__ Each value to be printed must have an assigned format."
   ]
  },
  {
   "cell_type": "code",
   "execution_count": null,
   "metadata": {},
   "outputs": [],
   "source": [
    "awk -F ',' 'NR<5{printf(\"%1.4f\\n\", $2)}' files/TIC12974182-comma.dat    # field width of 1 digit"
   ]
  },
  {
   "cell_type": "markdown",
   "metadata": {},
   "source": [
    ">An insufficient number of decimal places was specified, so our data was printed with the minimum possible number of decimal places."
   ]
  },
  {
   "cell_type": "code",
   "execution_count": null,
   "metadata": {},
   "outputs": [],
   "source": [
    "awk -F ',' 'NR<5{printf(\"%15.4f\\n\", $2)}' files/TIC12974182-comma.dat    # field width of 15 digits"
   ]
  },
  {
   "cell_type": "markdown",
   "metadata": {},
   "source": [
    "> Everything is right-aligned, and additionally, white spaces have been added to fill in the specified 15 positions."
   ]
  },
  {
   "cell_type": "markdown",
   "metadata": {},
   "source": [
    "| Format Specification |  |  |  | Output |\n",
    "| -------------------- | - | - | - | ------ |\n",
    "|         `%c`         |  |  |  | Single character |\n",
    "|         `%d`         |  |  |  | Integer number |\n",
    "|         `%e`         |  |  |  | Scientific notation |\n",
    "|         `%f`         |  |  |  | Floating-point number |\n",
    "|         `%g`         |  |  |  | Automatic selection between `%f` and `%e` (depending on which is shorter) and removal of trailing zeros |\n",
    "|         `%s`         |  |  |  | String |\n",
    "|         `%%`         |  |  |  | To print the character `%` |\n"
   ]
  },
  {
   "cell_type": "markdown",
   "metadata": {},
   "source": [
    "In the previous examples, we can see numbers between the `%` sign and the format specifier letter. The formatting of a floating-point number was described. The general syntax is as follows: __`%[first_number.second_number]format`__. The first number indicates the width, the second number (in the case of floating-point numbers) represents the precision, and for strings, it denotes the length (similar to the string variable in `bash`).\n",
    "\n",
    "Examples:"
   ]
  },
  {
   "cell_type": "code",
   "execution_count": null,
   "metadata": {},
   "outputs": [],
   "source": [
    "# On five positions, the first three characters of the string `abcdefg` will be printed.\n",
    "awk 'BEGIN{printf(\"%5.3s\\n\", \"abcdefg\")}' "
   ]
  },
  {
   "cell_type": "code",
   "execution_count": null,
   "metadata": {},
   "outputs": [],
   "source": [
    "awk -F ',' 'NR<5{printf(\"%15.4e\\n\", $2)}' files/TIC12974182-comma.dat    # an example with engineering notation"
   ]
  },
  {
   "cell_type": "markdown",
   "metadata": {},
   "source": [
    "Notice that everywhere at the end of the format, a __newline character__ `\\n` is appended. If it weren't there, everything would be printed in a single line."
   ]
  },
  {
   "cell_type": "code",
   "execution_count": null,
   "metadata": {},
   "outputs": [],
   "source": [
    "awk -F ',' 'NR<5{printf(\"%15.4e\", $2)}' files/TIC12974182-comma.dat    # everything in one line"
   ]
  },
  {
   "cell_type": "markdown",
   "metadata": {},
   "source": [
    "Additional modifiers can be used after the `%` character:\n",
    "\n",
    "|   Modifier   | * | * | * | Output Format                                  |\n",
    "| :----------: | :-: | :-: | :-: | ------------------------------------------- |\n",
    "|      `-`     | : | : | : |  Left-justified                                |\n",
    "| `<space>` | : | : | : |  Positive numbers have a space before the first character, negative numbers have a `-` sign |\n",
    "|      `+`     | : | : | : | Overrides `<space>`, always includes a `+` sign for positive numbers |\n",
    "|      `#`     | : | : | : |  Alternative form, for example, does not remove trailing zeros (`%g`) |\n",
    "|      `0`     | : | : | : |  Pad with `0` instead of whitespace characters |\n",
    "|   `width`  | : | : | : |  Width, which is the length (first number mentioned earlier) |\n",
    "|   `.prec`  | : | : | : | Precision, for floating-point numbers, or the number of characters for strings and integers (second number mentioned earlier) |"
   ]
  },
  {
   "cell_type": "markdown",
   "metadata": {},
   "source": [
    "## 7.4 Associative Arrays"
   ]
  },
  {
   "cell_type": "markdown",
   "metadata": {},
   "source": [
    "## 7.4 Associative Arrays\n",
    "\n",
    "Associative arrays, also known as dictionaries or maps, are a useful feature in `awk` that allow you to store and retrieve values using keys. Unlike regular arrays, which use numerical indices, associative arrays use strings as keys.\n",
    "\n",
    "To declare an associative array in `awk`, you can use the following syntax:\n",
    "\n",
    "```awk\n",
    "array[key] = value\n",
    "```\n",
    "\n",
    "Here, `array` is the name of the associative array, `key` is the string key, and `value` is the corresponding value associated with that key.\n",
    "\n",
    "You can access the value stored in an associative array by referencing the key:\n",
    "\n",
    "```awk\n",
    "array[key]\n",
    "```\n",
    "\n",
    "Associative arrays are dynamic, meaning you can add or modify elements at runtime. If a key already exists, assigning a new value to it will update the value.\n",
    "\n",
    "Let's create an associative array:"
   ]
  },
  {
   "cell_type": "code",
   "execution_count": null,
   "metadata": {},
   "outputs": [],
   "source": [
    "awk 'BEGIN{\n",
    "star[\"hd_id\"]=\"HD204\";\n",
    "star[\"RA\"]=\"01d47m16.35s\";\n",
    "star[\"DEC\"]=\"72d46m30.76s\";\n",
    "printf(\"%30s %-20s\\n\", \"HD name: \", star[\"hd_id\"]);\n",
    "printf(\"%30s %-20s\\n\", \"Right Ascension: \", star[\"RA\"]);\n",
    "printf(\"%30s %-20s\\n\", \"Declination: \", star[\"DEC\"]);\n",
    "}'"
   ]
  },
  {
   "cell_type": "markdown",
   "metadata": {},
   "source": [
    "## 7.5 Substring of a String (`substr`)\n",
    "\n",
    "In `awk`, the `substr` function allows you to extract a substring from a given string. It has the following syntax:\n",
    "\n",
    "```bash\n",
    "awk '{print substr(string,start,lenght)}'\n",
    "```\n",
    "\n",
    "- `string` is the original string from which you want to extract the substring.\n",
    "- `start` is the position in the string where the substring should start. It can be a positive or negative integer. Positive values count from the beginning of the string, while negative values count from the end of the string.\n",
    "- `length` (optional) is the number of characters to include in the substring. If not specified, `substr` will include all characters from the starting position to the end of the string.\n",
    "\n",
    "The `substr` function returns the extracted substring as a result.\n",
    "\n",
    "The `substr` function is useful for manipulating strings in `awk` and extracting specific portions of a larger string based on their positions. Here are a few examples to illustrate its usage:"
   ]
  },
  {
   "cell_type": "code",
   "execution_count": null,
   "metadata": {},
   "outputs": [],
   "source": [
    "# Printing 4 characters starting from the 5th position for the first field (for the last 3 lines)\n",
    "awk -F ',' 'NR>8529{print substr($1,5,4)}' files/TIC12974182-comma.dat "
   ]
  },
  {
   "cell_type": "code",
   "execution_count": null,
   "metadata": {},
   "outputs": [],
   "source": [
    "awk -F ',' 'NR>8529{print \"Decimal part (3 digits) from time: \"substr($1,5,4)\"\\nDecimal part (4 digits) from flux error: \" substr($3,2,5)\"\\n\"}' files/TIC12974182-comma.dat"
   ]
  },
  {
   "cell_type": "markdown",
   "metadata": {},
   "source": [
    "> In the above example, when the file structure is fixed, you can print various information. <br>In this case, the decimal parts of the __first__ (`$1`) and __third__ (`$3`) columns were printed for the last 3 lines, with 3 and 4 decimal places, respectively."
   ]
  }
 ],
 "metadata": {
  "kernelspec": {
   "display_name": "Bash",
   "language": "bash",
   "name": "bash"
  },
  "language_info": {
   "codemirror_mode": "shell",
   "file_extension": ".sh",
   "mimetype": "text/x-sh",
   "name": "bash"
  }
 },
 "nbformat": 4,
 "nbformat_minor": 4
}
