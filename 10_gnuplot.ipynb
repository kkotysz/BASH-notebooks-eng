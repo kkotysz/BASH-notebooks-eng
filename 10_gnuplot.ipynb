{
 "cells": [
  {
   "cell_type": "markdown",
   "metadata": {},
   "source": [
    "# 10. Gnuplot - a tool for data visualization: Part 1\n",
    "\n",
    "Gnuplot is a powerful tool for creating visualizations of data. It provides a wide range of options for generating various types of plots and charts. In this tutorial series, we will explore the basics of using Gnuplot for data visualization.\n",
    "\n",
    "In Part 1, we will cover the following topics:\n",
    "1. Installing Gnuplot: Instructions for installing Gnuplot on different platforms.\n",
    "2. Interactive mode: Working with Gnuplot in interactive mode, where you can enter commands and see the plots immediately.\n",
    "3. Plotting functions: Generating plots of mathematical functions.\n",
    "4. Customizing plots: Modifying plot settings such as titles, labels, ranges, and scaling.\n",
    "5. Plotting with points: Adding data points to plots and customizing their appearance.\n",
    "6. Saving plots: Saving plots to image files for further use.\n",
    "\n",
    "By the end of this tutorial, you will have a good understanding of the basic features of Gnuplot and how to create simple visualizations. Let's get started with installing Gnuplot and exploring its interactive mode."
   ]
  },
  {
   "cell_type": "markdown",
   "metadata": {},
   "source": [
    "First we need to load gnuplot_kernel to display gnuplot plots in this notebook."
   ]
  },
  {
   "cell_type": "code",
   "execution_count": null,
   "metadata": {},
   "outputs": [],
   "source": [
    "%load_ext gnuplot_kernel"
   ]
  },
  {
   "cell_type": "markdown",
   "metadata": {},
   "source": [
    "If you are using the `bash` shell on Windows with Windows Subsystem for Linux (WSL), the installation process remains the same. This method will allow you to invoke `gnuplot` from the terminal.\n",
    "\n",
    "To install `gnuplot`, execute the following command:\n",
    "```bash\n",
    "sudo apt install gnuplot\n",
    "```\n",
    "The `gnuplot` program should be installed in version 5. To run it, simply type the command `gnuplot`.<br>\n",
    "![SegmentLocal](images/gnuplot.gif \"segment\")<br>\n",
    "\n",
    "### __[CAUTION]__ All commands in this document preceded by the `%` symbol are for the purpose of this notebook only. Do not enter them into `gnuplot`."
   ]
  },
  {
   "cell_type": "markdown",
   "metadata": {},
   "source": [
    "## 10.1 Basic command - `plot`"
   ]
  },
  {
   "cell_type": "markdown",
   "metadata": {},
   "source": [
    "With `gnuplot`, you can work in two ways: __interactive mode__ and __script mode__. Let's first focus on interactive work. After opening `gnuplot`, you will have access to a console where you can enter commands. The most basic command is `plot`, which is used to create a plot. After the `plot` command, you should specify what you want to plot. It can be a data file name or a function.\n",
    "#### __1) Parabola $x^2$__"
   ]
  },
  {
   "cell_type": "code",
   "execution_count": null,
   "metadata": {},
   "outputs": [],
   "source": [
    "%%gnuplot\n",
    "plot x**2"
   ]
  },
  {
   "cell_type": "markdown",
   "metadata": {},
   "source": [
    "#### 2) It is also possible to define custom functions and variables"
   ]
  },
  {
   "cell_type": "code",
   "execution_count": null,
   "metadata": {},
   "outputs": [],
   "source": [
    "%%gnuplot\n",
    "a=3\n",
    "h(x)=a*cos(x)\n",
    "plot h(x)"
   ]
  },
  {
   "cell_type": "markdown",
   "metadata": {},
   "source": [
    "#### 3) Example of how to set various settings, including plot title, axis labels, axis range, and scaling"
   ]
  },
  {
   "cell_type": "code",
   "execution_count": null,
   "metadata": {},
   "outputs": [],
   "source": [
    "%%gnuplot\n",
    "set title \"Plot of the function 3cos(x)\"   # plot title\n",
    "set xlabel \"Argument\"                      # x-axis label\n",
    "set ylabel \"Function Value\"                # y-axis label\n",
    "set grid                                   # display grid\n",
    "set xrange [-2*pi:2*pi]                    # x-axis range\n",
    "set yrange [-3.5:3.5]                      # y-axis range\n",
    "set xtics (\"-2{/Symbol p}\" -2*pi, \"-{/Symbol p}\" -pi, \"0\" 0, \"{/Symbol p}\" pi, \"2{/Symbol p}\" 2*pi)   # x-axis tick positions\n",
    "set ytics (\"0\" 0, -3, 3)                   # y-axis tick positions\n",
    "plot h(x)                                  # plot the custom function h(x)"
   ]
  },
  {
   "cell_type": "markdown",
   "metadata": {},
   "source": [
    "#### __4) Arguments after `plot`__"
   ]
  },
  {
   "cell_type": "markdown",
   "metadata": {},
   "source": [
    "After the `plot` command, you can specify what you want to plot. It is also possible to customize the appearance of the plot. You can choose the line or point style, color, size, etc."
   ]
  },
  {
   "cell_type": "code",
   "execution_count": null,
   "metadata": {},
   "outputs": [],
   "source": [
    "%%gnuplot\n",
    "plot h(x) with points          # with points -> plot with points, you can also use the shorthand version: w"
   ]
  },
  {
   "cell_type": "markdown",
   "metadata": {},
   "source": [
    "Other possible modifiers:\n",
    "- __pt__ <number> : (point type) point type, followed by the number\n",
    "- __ps__ <number> : (point size) point size\n",
    "- __lw__ <number> : (line width) line width\n",
    "- __dt__ <number> : (dash type) dash type\n",
    "- __lc__ <number> : (line color) line color\n",
    "\n",
    "You can always invoke the auxiliary graphic by entering the `test` command.\n",
    "\n",
    "![title](images/gnuplot.png)"
   ]
  },
  {
   "cell_type": "markdown",
   "metadata": {},
   "source": [
    "#### Few examples:"
   ]
  },
  {
   "cell_type": "code",
   "execution_count": null,
   "metadata": {},
   "outputs": [],
   "source": [
    "%%gnuplot\n",
    "plot h(x) w p pt 7 ps 0.3 lc 7"
   ]
  },
  {
   "cell_type": "code",
   "execution_count": null,
   "metadata": {},
   "outputs": [],
   "source": [
    "%%gnuplot\n",
    "plot h(x) w l dt 5 lw 3 lc 3"
   ]
  },
  {
   "cell_type": "markdown",
   "metadata": {},
   "source": [
    "## 10.2 Saving plot"
   ]
  },
  {
   "cell_type": "markdown",
   "metadata": {},
   "source": [
    "The default output for the `plot` command is the graphics server, which displays the plot in a window. To save the plot to a file, you need to change the default output using the `set term` command and specify `pngcairo`. Additionally, you can set the size. Then, the `set output \"<filename>\"` command indicates the file to which you want to save the plot.\n",
    "\n",
    "\n",
    "This will save the plot as a PNG file named \"plot.png\" in the current directory:"
   ]
  },
  {
   "cell_type": "code",
   "execution_count": null,
   "metadata": {},
   "outputs": [],
   "source": [
    "%%gnuplot\n",
    "set term pngcairo size 1024,768\n",
    "set output \"wykres.png\"\n",
    "plot h(x) w p pt 7 ps 0.3 lc 7"
   ]
  },
  {
   "cell_type": "markdown",
   "metadata": {},
   "source": [
    "## 10.3 Plotting file with data"
   ]
  },
  {
   "cell_type": "markdown",
   "metadata": {},
   "source": [
    "To create a plot with data from a file, simply provide the file name after the `plot` command. The file should have columns separated by whitespace characters. By default, the first two columns are used.\n",
    "\n",
    "General syntax is following:\n",
    "```gnuplot\n",
    "plot \"data.txt\" using 1:2:3 with lp\n",
    "```\n",
    "\n",
    "The `using` keyword is used to specify which columns from the file to use for the x, y, and error values, respectively (can be shortened to `u`). The `with` lp option specifies that both points and lines should be plotted (also can be shortened to `w lp`).\n",
    "\n",
    "In the example below, both points and a line are drawn (using the `lp [line point]` modifier). In the file used, the first column represents time, the second column represents the flux, and the third column represents the measurement error."
   ]
  },
  {
   "cell_type": "code",
   "execution_count": null,
   "metadata": {},
   "outputs": [],
   "source": [
    "%%gnuplot\n",
    "reset\n",
    "set title\"LIGHTCURVE OF A STAR\"\n",
    "set xlabel\"TIME\"\n",
    "set ylabel\"FLUX\"            \n",
    "set xrange[1356:1357.3]\n",
    "plot 'files/lightcurve.dat' w lp ps 1 pt 7 lc 7 lw 0.3    # first two columns are taken by default"
   ]
  },
  {
   "cell_type": "code",
   "execution_count": null,
   "metadata": {},
   "outputs": [],
   "source": [
    "%%gnuplot\n",
    "reset\n",
    "set title \"ERRORS\"\n",
    "set autoscale\n",
    "plot 'files/lightcurve.dat' u 1:3 w lp ps 1 pt 7 lc 7 lw 0.3    # first and third column"
   ]
  },
  {
   "cell_type": "markdown",
   "metadata": {},
   "source": [
    "#### Rysowanie wraz z zaznaczonymi błędami: `w ye` (with yerrorbars)"
   ]
  },
  {
   "cell_type": "code",
   "execution_count": null,
   "metadata": {},
   "outputs": [],
   "source": [
    "%%gnuplot\n",
    "reset\n",
    "set title \"LIGHTCURVE OF A STAR WITH ERRORS\"\n",
    "plot 'files/lightcurve.dat' u 1:2:3 w ye ps 1 pt 7 lc 7 lw 0.8"
   ]
  }
 ],
 "metadata": {
  "kernelspec": {
   "display_name": "Python 3 (ipykernel)",
   "language": "python",
   "name": "python3"
  },
  "language_info": {
   "codemirror_mode": {
    "name": "ipython",
    "version": 3
   },
   "file_extension": ".py",
   "mimetype": "text/x-python",
   "name": "python",
   "nbconvert_exporter": "python",
   "pygments_lexer": "ipython3",
   "version": "3.8.16"
  }
 },
 "nbformat": 4,
 "nbformat_minor": 4
}
